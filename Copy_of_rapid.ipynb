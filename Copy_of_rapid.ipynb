{
  "cells": [
    {
      "cell_type": "markdown",
      "metadata": {
        "id": "view-in-github",
        "colab_type": "text"
      },
      "source": [
        "<a href=\"https://colab.research.google.com/github/Nalina655/Nalina655/blob/main/Copy_of_rapid.ipynb\" target=\"_parent\"><img src=\"https://colab.research.google.com/assets/colab-badge.svg\" alt=\"Open In Colab\"/></a>"
      ]
    },
    {
      "cell_type": "code",
      "execution_count": null,
      "metadata": {
        "colab": {
          "base_uri": "https://localhost:8080/",
          "height": 429
        },
        "id": "xNpynkAclC4e",
        "outputId": "53bec77c-a334-413e-acfb-459bf110cfa5"
      },
      "outputs": [
        {
          "output_type": "stream",
          "name": "stdout",
          "text": [
            "Collecting gtfs-realtime-bindings\n",
            "  Downloading gtfs-realtime-bindings-1.0.0.tar.gz (6.2 kB)\n",
            "  Preparing metadata (setup.py) ... \u001b[?25l\u001b[?25hdone\n",
            "Requirement already satisfied: requests in /usr/local/lib/python3.11/dist-packages (2.32.3)\n",
            "Requirement already satisfied: setuptools in /usr/local/lib/python3.11/dist-packages (from gtfs-realtime-bindings) (75.2.0)\n",
            "Requirement already satisfied: protobuf in /usr/local/lib/python3.11/dist-packages (from gtfs-realtime-bindings) (5.29.5)\n",
            "Requirement already satisfied: charset-normalizer<4,>=2 in /usr/local/lib/python3.11/dist-packages (from requests) (3.4.2)\n",
            "Requirement already satisfied: idna<4,>=2.5 in /usr/local/lib/python3.11/dist-packages (from requests) (3.10)\n",
            "Requirement already satisfied: urllib3<3,>=1.21.1 in /usr/local/lib/python3.11/dist-packages (from requests) (2.4.0)\n",
            "Requirement already satisfied: certifi>=2017.4.17 in /usr/local/lib/python3.11/dist-packages (from requests) (2025.7.9)\n",
            "Building wheels for collected packages: gtfs-realtime-bindings\n",
            "  Building wheel for gtfs-realtime-bindings (setup.py) ... \u001b[?25l\u001b[?25hdone\n",
            "  Created wheel for gtfs-realtime-bindings: filename=gtfs_realtime_bindings-1.0.0-py3-none-any.whl size=5987 sha256=e0be7a2930908bc486b860089ba6346615c5158e01d908686fbbb6aefdba9736\n",
            "  Stored in directory: /root/.cache/pip/wheels/de/77/98/c97c7fb5e3a7359e3f83c9c4a62115d3700e9b5445854ca122\n",
            "Successfully built gtfs-realtime-bindings\n",
            "Installing collected packages: gtfs-realtime-bindings\n",
            "Successfully installed gtfs-realtime-bindings-1.0.0\n"
          ]
        },
        {
          "output_type": "display_data",
          "data": {
            "application/vnd.colab-display-data+json": {
              "pip_warning": {
                "packages": [
                  "google"
                ]
              },
              "id": "04f7feb13c12468b81e564c15cf9d1de"
            }
          },
          "metadata": {}
        }
      ],
      "source": [
        "pip install gtfs-realtime-bindings requests\n"
      ]
    },
    {
      "cell_type": "code",
      "execution_count": null,
      "metadata": {
        "id": "LTmO3Ixfb8uz",
        "colab": {
          "base_uri": "https://localhost:8080/",
          "height": 908
        },
        "outputId": "0b92c026-afe1-4a1a-b4f5-f7330a8a3814"
      },
      "outputs": [
        {
          "output_type": "stream",
          "name": "stdout",
          "text": [
            "\n",
            "=== Fetching real-time bus + traffic + weather data ===\n",
            "\n",
            "🚌 Bus ID: MTA NYCT_9775 | Route: M11 | Trip: MV_C5-Saturday-038000_M11_606\n",
            "📍 Location: 152, Columbus Avenue, Manhattan Community Board 7, Manhattan, New York County, City of New York, New York, 10023, United States (40.77387, -73.98139)\n",
            "🕒 Timestamp (New York): 2025-07-12 06:50:25 EDT\n",
            "🚗 Traffic - Current Speed: 24 km/h | Free Flow Speed: 24 km/h | Ratio: 1.0\n",
            "🌦 Weather - Temp: 23.34°C | Humidity: 88% | Condition: Clouds | Wind: 2.68 m/s\n",
            "\n",
            "🚌 Bus ID: MTA NYCT_7112 | Route: B42 | Trip: EN_C5-Saturday-041000_B42_502\n",
            "📍 Location: 2015, Rockaway Parkway, Canarsie, Brooklyn, Kings County, City of New York, New York, 11236, United States (40.63342, -73.88918)\n",
            "🕒 Timestamp (New York): 2025-07-12 06:50:17 EDT\n",
            "🚗 Traffic - Current Speed: 27 km/h | Free Flow Speed: 27 km/h | Ratio: 1.0\n",
            "🌦 Weather - Temp: 23.48°C | Humidity: 90% | Condition: Clouds | Wind: 2.57 m/s\n",
            "\n",
            "🚌 Bus ID: MTA NYCT_8444 | Route: S61 | Trip: YU_C5-Saturday-040500_MISC_717\n",
            "📍 Location: Platinum Avenue, Staten Island, Richmond County, City of New York, New York, 10314, United States (40.57769, -74.16613)\n",
            "🕒 Timestamp (New York): 2025-07-12 06:50:40 EDT\n",
            "🚗 Traffic - Current Speed: 41 km/h | Free Flow Speed: 49 km/h | Ratio: 1.19\n",
            "🕓 Bus likely delayed due to traffic (~11 sec)\n",
            "🌦 Weather - Temp: 23.01°C | Humidity: 89% | Condition: Clear | Wind: 0.45 m/s\n",
            "\n",
            "🚌 Bus ID: MTA NYCT_9773 | Route: M3 | Trip: MV_C5-Saturday-037800_M3_302\n",
            "📍 Location: 480, Saint Nicholas Avenue, Manhattan Community Board 10, Manhattan, New York County, City of New York, New York, 10030, United States (40.81611, -73.94847)\n",
            "🕒 Timestamp (New York): 2025-07-12 06:50:16 EDT\n",
            "🚗 Traffic - Current Speed: 19 km/h | Free Flow Speed: 19 km/h | Ratio: 1.0\n",
            "🌦 Weather - Temp: 23.14°C | Humidity: 88% | Condition: Clouds | Wind: 2.68 m/s\n",
            "\n",
            "🚌 Bus ID: MTA NYCT_8441 | Route: Q30 | Trip: JA_C5-Saturday-040200_MISC_761\n",
            "📍 Location: 168-42, Hillside Avenue, Jamaica, Queens, Queens County, City of New York, New York, 11432, United States (40.71049, -73.79354)\n",
            "🕒 Timestamp (New York): 2025-07-12 06:50:14 EDT\n",
            "🚗 Traffic - Current Speed: 12 km/h | Free Flow Speed: 18 km/h | Ratio: 1.5\n",
            "🕓 Bus likely delayed due to traffic (~30 sec)\n",
            "🌦 Weather - Temp: 22.96°C | Humidity: 90% | Condition: Clouds | Wind: 2.57 m/s\n"
          ]
        },
        {
          "output_type": "error",
          "ename": "KeyboardInterrupt",
          "evalue": "",
          "traceback": [
            "\u001b[0;31m---------------------------------------------------------------------------\u001b[0m",
            "\u001b[0;31mKeyboardInterrupt\u001b[0m                         Traceback (most recent call last)",
            "\u001b[0;32m/tmp/ipython-input-2-1394764426.py\u001b[0m in \u001b[0;36m<cell line: 0>\u001b[0;34m()\u001b[0m\n\u001b[1;32m    141\u001b[0m \u001b[0;31m# ======== 🚀 Main ===========\u001b[0m\u001b[0;34m\u001b[0m\u001b[0;34m\u001b[0m\u001b[0m\n\u001b[1;32m    142\u001b[0m \u001b[0;32mif\u001b[0m \u001b[0m__name__\u001b[0m \u001b[0;34m==\u001b[0m \u001b[0;34m\"__main__\"\u001b[0m\u001b[0;34m:\u001b[0m\u001b[0;34m\u001b[0m\u001b[0;34m\u001b[0m\u001b[0m\n\u001b[0;32m--> 143\u001b[0;31m     \u001b[0mpoll_data\u001b[0m\u001b[0;34m(\u001b[0m\u001b[0;34m)\u001b[0m\u001b[0;34m\u001b[0m\u001b[0;34m\u001b[0m\u001b[0m\n\u001b[0m",
            "\u001b[0;32m/tmp/ipython-input-2-1394764426.py\u001b[0m in \u001b[0;36mpoll_data\u001b[0;34m()\u001b[0m\n\u001b[1;32m    137\u001b[0m                 \u001b[0mprint\u001b[0m\u001b[0;34m(\u001b[0m\u001b[0;34m\"🌦 Weather data not available.\"\u001b[0m\u001b[0;34m)\u001b[0m\u001b[0;34m\u001b[0m\u001b[0;34m\u001b[0m\u001b[0m\n\u001b[1;32m    138\u001b[0m \u001b[0;34m\u001b[0m\u001b[0m\n\u001b[0;32m--> 139\u001b[0;31m         \u001b[0mtime\u001b[0m\u001b[0;34m.\u001b[0m\u001b[0msleep\u001b[0m\u001b[0;34m(\u001b[0m\u001b[0;36m30\u001b[0m\u001b[0;34m)\u001b[0m\u001b[0;34m\u001b[0m\u001b[0;34m\u001b[0m\u001b[0m\n\u001b[0m\u001b[1;32m    140\u001b[0m \u001b[0;34m\u001b[0m\u001b[0m\n\u001b[1;32m    141\u001b[0m \u001b[0;31m# ======== 🚀 Main ===========\u001b[0m\u001b[0;34m\u001b[0m\u001b[0;34m\u001b[0m\u001b[0m\n",
            "\u001b[0;31mKeyboardInterrupt\u001b[0m: "
          ]
        }
      ],
      "source": [
        "import time\n",
        "import requests\n",
        "from datetime import datetime, timedelta\n",
        "from google.transit import gtfs_realtime_pb2\n",
        "import pytz  # ✅ added for timezone conversion\n",
        "\n",
        "# ======== 🔐 API KEYS ===========\n",
        "MTA_API_KEY = \"bab3392b-58f0-42c2-8b61-421d6a03e72e\"\n",
        "TOMTOM_API_KEY = \"gmKSHRhMEQ1oXOnhV5wKL2B3WE45SZL9\"\n",
        "OPENWEATHER_API_KEY = \"d7836e8948f06edd3c191fa978ff266f\"\n",
        "\n",
        "# ======== 🌐 API URLs ===========\n",
        "MTA_API_URL = \"https://gtfsrt.prod.obanyc.com/vehiclePositions\"\n",
        "TOMTOM_URL = \"https://api.tomtom.com/traffic/services/4/flowSegmentData/absolute/10/json\"\n",
        "OPENWEATHER_URL = \"https://api.openweathermap.org/data/2.5/weather\"\n",
        "REVERSE_GEOCODE_URL = \"https://nominatim.openstreetmap.org/reverse\"\n",
        "\n",
        "# ======== ⏱️ Convert to New York Time ===========\n",
        "def convert_to_ny(utc_timestamp):\n",
        "    utc_dt = datetime.utcfromtimestamp(utc_timestamp).replace(tzinfo=pytz.utc)\n",
        "    ny_tz = pytz.timezone(\"America/New_York\")\n",
        "    ny_time = utc_dt.astimezone(ny_tz)\n",
        "    return ny_time.strftime(\"%Y-%m-%d %H:%M:%S %Z\")\n",
        "\n",
        "# ======== 🚍 MTA GTFS Bus Fetch ===========\n",
        "def fetch_mta_data():\n",
        "    headers = {\"x-api-key\": MTA_API_KEY}\n",
        "    response = requests.get(MTA_API_URL, headers=headers)\n",
        "    feed = gtfs_realtime_pb2.FeedMessage()\n",
        "    feed.ParseFromString(response.content)\n",
        "\n",
        "    buses = []\n",
        "    for entity in feed.entity:\n",
        "        if entity.HasField(\"vehicle\"):\n",
        "            v = entity.vehicle\n",
        "            buses.append({\n",
        "                \"vehicle_id\": v.vehicle.id,\n",
        "                \"trip_id\": v.trip.trip_id,\n",
        "                \"route_id\": v.trip.route_id,\n",
        "                \"latitude\": v.position.latitude,\n",
        "                \"longitude\": v.position.longitude,\n",
        "                \"timestamp\": v.timestamp,\n",
        "                \"speed\": v.position.speed if v.position.HasField(\"speed\") else None\n",
        "            })\n",
        "    return buses\n",
        "\n",
        "# ======== 🌍 Reverse Geocoding ===========\n",
        "def get_place_name(lat, lon):\n",
        "    params = {\n",
        "        \"lat\": lat,\n",
        "        \"lon\": lon,\n",
        "        \"format\": \"json\"\n",
        "    }\n",
        "    try:\n",
        "        r = requests.get(REVERSE_GEOCODE_URL, params=params, headers={\"User-Agent\": \"MTA-Bus-Tracker/1.0\"})\n",
        "        if r.status_code == 200:\n",
        "            data = r.json()\n",
        "            return data.get(\"display_name\", \"Unknown Location\")\n",
        "    except:\n",
        "        pass\n",
        "    return \"Unknown Location\"\n",
        "\n",
        "# ======== 🚗 TomTom Traffic Fetch ===========\n",
        "def fetch_traffic(lat, lon):\n",
        "    params = {\n",
        "        \"point\": f\"{lat},{lon}\",\n",
        "        \"unit\": \"KMPH\",\n",
        "        \"key\": TOMTOM_API_KEY\n",
        "    }\n",
        "    r = requests.get(TOMTOM_URL, params=params)\n",
        "    if r.status_code == 200:\n",
        "        d = r.json()\n",
        "        return {\n",
        "            \"current_speed\": d[\"flowSegmentData\"][\"currentSpeed\"],\n",
        "            \"free_flow_speed\": d[\"flowSegmentData\"][\"freeFlowSpeed\"],\n",
        "            \"traffic_ratio\": round(d[\"flowSegmentData\"][\"currentTravelTime\"] / d[\"flowSegmentData\"][\"freeFlowTravelTime\"], 2)\n",
        "        }\n",
        "    return None\n",
        "\n",
        "# ======== 🌦 OpenWeather Fetch ===========\n",
        "def fetch_weather(lat, lon):\n",
        "    params = {\n",
        "        \"lat\": lat,\n",
        "        \"lon\": lon,\n",
        "        \"appid\": OPENWEATHER_API_KEY,\n",
        "        \"units\": \"metric\"\n",
        "    }\n",
        "    r = requests.get(OPENWEATHER_URL, params=params)\n",
        "    if r.status_code == 200:\n",
        "        d = r.json()\n",
        "        return {\n",
        "            \"temperature\": d[\"main\"][\"temp\"],\n",
        "            \"humidity\": d[\"main\"][\"humidity\"],\n",
        "            \"weather\": d[\"weather\"][0][\"main\"],\n",
        "            \"wind_speed\": d[\"wind\"][\"speed\"]\n",
        "        }\n",
        "    return None\n",
        "\n",
        "# ======== 🔁 Loop to Fetch and Print Data ===========\n",
        "def poll_data():\n",
        "    while True:\n",
        "        print(\"\\n=== Fetching real-time bus + traffic + weather data ===\")\n",
        "        buses = fetch_mta_data()\n",
        "        for bus in buses[:5]:  # Limit for demo\n",
        "            lat = bus[\"latitude\"]\n",
        "            lon = bus[\"longitude\"]\n",
        "            place_name = get_place_name(lat, lon)\n",
        "            ny_time = convert_to_ny(bus[\"timestamp\"])  # ⏱️ now in New York time\n",
        "\n",
        "            traffic = fetch_traffic(lat, lon)\n",
        "            weather = fetch_weather(lat, lon)\n",
        "\n",
        "            print(f\"\\n🚌 Bus ID: {bus['vehicle_id']} | Route: {bus['route_id']} | Trip: {bus['trip_id']}\")\n",
        "            print(f\"📍 Location: {place_name} ({lat:.5f}, {lon:.5f})\")\n",
        "            print(f\"🕒 Timestamp (New York): {ny_time}\")\n",
        "\n",
        "            # 🚗 Traffic Output\n",
        "            if traffic:\n",
        "                print(f\"🚗 Traffic - Current Speed: {traffic['current_speed']} km/h | \"\n",
        "                      f\"Free Flow Speed: {traffic['free_flow_speed']} km/h | \"\n",
        "                      f\"Ratio: {traffic['traffic_ratio']}\")\n",
        "                if traffic[\"traffic_ratio\"] > 1.1:\n",
        "                    delay_sec = int((traffic[\"traffic_ratio\"] - 1) * 60)\n",
        "                    print(f\"🕓 Bus likely delayed due to traffic (~{delay_sec} sec)\")\n",
        "            else:\n",
        "                print(\"🚗 Traffic data not available.\")\n",
        "\n",
        "            # 🌦 Weather Output\n",
        "            if weather:\n",
        "                print(f\"🌦 Weather - Temp: {weather['temperature']}°C | \"\n",
        "                      f\"Humidity: {weather['humidity']}% | \"\n",
        "                      f\"Condition: {weather['weather']} | \"\n",
        "                      f\"Wind: {weather['wind_speed']} m/s\")\n",
        "                if weather['weather'] in [\"Rain\", \"Snow\", \"Thunderstorm\", \"Drizzle\"]:\n",
        "                    print(\"☔ Weather may cause delays.\")\n",
        "            else:\n",
        "                print(\"🌦 Weather data not available.\")\n",
        "\n",
        "        time.sleep(30)\n",
        "\n",
        "# ======== 🚀 Main ===========\n",
        "if __name__ == \"__main__\":\n",
        "    poll_data()\n"
      ]
    },
    {
      "cell_type": "code",
      "execution_count": null,
      "metadata": {
        "id": "tc3RVM_6w0Pp",
        "colab": {
          "base_uri": "https://localhost:8080/",
          "height": 454
        },
        "outputId": "7203bb55-d3cc-474b-8381-35f4a0fe23cb"
      },
      "outputs": [
        {
          "output_type": "stream",
          "name": "stdout",
          "text": [
            "📂 Logging to: /content/bus_data_log.csv\n",
            "🔄 Fetching new data...\n",
            "✅ Buses fetched: 1090\n",
            "📝 10 entries written to CSV.\n",
            "\n",
            "🔄 Fetching new data...\n",
            "✅ Buses fetched: 1091\n",
            "📝 10 entries written to CSV.\n",
            "\n"
          ]
        },
        {
          "output_type": "error",
          "ename": "KeyboardInterrupt",
          "evalue": "",
          "traceback": [
            "\u001b[0;31m---------------------------------------------------------------------------\u001b[0m",
            "\u001b[0;31mKeyboardInterrupt\u001b[0m                         Traceback (most recent call last)",
            "\u001b[0;32m/tmp/ipython-input-3-3663571760.py\u001b[0m in \u001b[0;36m<cell line: 0>\u001b[0;34m()\u001b[0m\n\u001b[1;32m    115\u001b[0m \u001b[0;31m# === Run ===\u001b[0m\u001b[0;34m\u001b[0m\u001b[0;34m\u001b[0m\u001b[0m\n\u001b[1;32m    116\u001b[0m \u001b[0;32mif\u001b[0m \u001b[0m__name__\u001b[0m \u001b[0;34m==\u001b[0m \u001b[0;34m\"__main__\"\u001b[0m\u001b[0;34m:\u001b[0m\u001b[0;34m\u001b[0m\u001b[0;34m\u001b[0m\u001b[0m\n\u001b[0;32m--> 117\u001b[0;31m     \u001b[0mlog_data_to_csv\u001b[0m\u001b[0;34m(\u001b[0m\u001b[0;34m)\u001b[0m\u001b[0;34m\u001b[0m\u001b[0;34m\u001b[0m\u001b[0m\n\u001b[0m",
            "\u001b[0;32m/tmp/ipython-input-3-3663571760.py\u001b[0m in \u001b[0;36mlog_data_to_csv\u001b[0;34m(filename)\u001b[0m\n\u001b[1;32m    111\u001b[0m \u001b[0;34m\u001b[0m\u001b[0m\n\u001b[1;32m    112\u001b[0m         \u001b[0mprint\u001b[0m\u001b[0;34m(\u001b[0m\u001b[0;34mf\"📝 {rows_written} entries written to CSV.\\n\"\u001b[0m\u001b[0;34m)\u001b[0m\u001b[0;34m\u001b[0m\u001b[0;34m\u001b[0m\u001b[0m\n\u001b[0;32m--> 113\u001b[0;31m         \u001b[0mtime\u001b[0m\u001b[0;34m.\u001b[0m\u001b[0msleep\u001b[0m\u001b[0;34m(\u001b[0m\u001b[0;36m30\u001b[0m\u001b[0;34m)\u001b[0m\u001b[0;34m\u001b[0m\u001b[0;34m\u001b[0m\u001b[0m\n\u001b[0m\u001b[1;32m    114\u001b[0m \u001b[0;34m\u001b[0m\u001b[0m\n\u001b[1;32m    115\u001b[0m \u001b[0;31m# === Run ===\u001b[0m\u001b[0;34m\u001b[0m\u001b[0;34m\u001b[0m\u001b[0m\n",
            "\u001b[0;31mKeyboardInterrupt\u001b[0m: "
          ]
        }
      ],
      "source": [
        "import time\n",
        "import requests\n",
        "import csv\n",
        "from datetime import datetime\n",
        "from google.transit import gtfs_realtime_pb2\n",
        "import os\n",
        "\n",
        "# === API KEYS ===\n",
        "MTA_API_KEY = \"bab3392b-58f0-42c2-8b61-421d6a03e72e\"\n",
        "TOMTOM_API_KEY = \"gmKSHRhMEQ1oXOnhV5wKL2B3WE45SZL9\"\n",
        "OPENWEATHER_API_KEY = \"d7836e8948f06edd3c191fa978ff266f\"\n",
        "\n",
        "# === API URLs ===\n",
        "MTA_API_URL = \"https://gtfsrt.prod.obanyc.com/vehiclePositions\"\n",
        "TOMTOM_URL = \"https://api.tomtom.com/traffic/services/4/flowSegmentData/absolute/10/json\"\n",
        "OPENWEATHER_URL = \"https://api.openweathermap.org/data/2.5/weather\"\n",
        "\n",
        "# === Data Fetch Functions ===\n",
        "def fetch_mta_data():\n",
        "    headers = {\"x-api-key\": MTA_API_KEY}\n",
        "    try:\n",
        "        response = requests.get(MTA_API_URL, headers=headers)\n",
        "        feed = gtfs_realtime_pb2.FeedMessage()\n",
        "        feed.ParseFromString(response.content)\n",
        "\n",
        "        buses = []\n",
        "        for entity in feed.entity:\n",
        "            if entity.HasField(\"vehicle\"):\n",
        "                v = entity.vehicle\n",
        "                buses.append({\n",
        "                    \"vehicle_id\": v.vehicle.id,\n",
        "                    \"trip_id\": v.trip.trip_id,\n",
        "                    \"route_id\": v.trip.route_id,\n",
        "                    \"latitude\": v.position.latitude,\n",
        "                    \"longitude\": v.position.longitude,\n",
        "                    \"timestamp\": datetime.utcfromtimestamp(v.timestamp).strftime(\"%Y-%m-%d %H:%M:%S\"),\n",
        "                    \"speed\": v.position.speed if v.position.HasField(\"speed\") else 0\n",
        "                })\n",
        "        return buses\n",
        "    except Exception as e:\n",
        "        print(\"Error fetching MTA data:\", e)\n",
        "        return []\n",
        "\n",
        "def fetch_traffic(lat, lon):\n",
        "    try:\n",
        "        params = {\"point\": f\"{lat},{lon}\", \"unit\": \"KMPH\", \"key\": TOMTOM_API_KEY}\n",
        "        r = requests.get(TOMTOM_URL, params=params)\n",
        "        if r.status_code == 200:\n",
        "            d = r.json()\n",
        "            current = d[\"flowSegmentData\"][\"currentTravelTime\"]\n",
        "            free = d[\"flowSegmentData\"][\"freeFlowTravelTime\"]\n",
        "            return round(current / free, 2)\n",
        "    except Exception as e:\n",
        "        print(\"Error fetching traffic:\", e)\n",
        "    return 1.0  # Assume normal if failed\n",
        "\n",
        "def fetch_weather(lat, lon):\n",
        "    try:\n",
        "        params = {\"lat\": lat, \"lon\": lon, \"appid\": OPENWEATHER_API_KEY, \"units\": \"metric\"}\n",
        "        r = requests.get(OPENWEATHER_URL, params=params)\n",
        "        if r.status_code == 200:\n",
        "            d = r.json()\n",
        "            return d[\"main\"][\"temp\"], d[\"weather\"][0][\"main\"]\n",
        "    except Exception as e:\n",
        "        print(\"Error fetching weather:\", e)\n",
        "    return 25.0, \"Clear\"\n",
        "\n",
        "# === Main Data Logging Function ===\n",
        "def log_data_to_csv(filename=\"bus_data_log.csv\"):\n",
        "    header = [\"timestamp\", \"vehicle_id\", \"latitude\", \"longitude\", \"speed\", \"traffic_ratio\", \"temperature\", \"weather\", \"delay_estimate_sec\"]\n",
        "    print(f\"📂 Logging to: {os.path.abspath(filename)}\")\n",
        "\n",
        "    # Write header if file doesn't exist\n",
        "    if not os.path.exists(filename):\n",
        "        with open(filename, \"w\", newline=\"\") as f:\n",
        "            writer = csv.writer(f)\n",
        "            writer.writerow(header)\n",
        "\n",
        "    while True:\n",
        "        print(\"🔄 Fetching new data...\")\n",
        "        buses = fetch_mta_data()\n",
        "        print(f\"✅ Buses fetched: {len(buses)}\")\n",
        "\n",
        "        if not buses:\n",
        "            print(\"⚠️ No bus data returned. Retrying in 30s...\")\n",
        "            time.sleep(30)\n",
        "            continue\n",
        "\n",
        "        rows_written = 0\n",
        "        with open(filename, \"a\", newline=\"\") as f:\n",
        "            writer = csv.writer(f)\n",
        "            for bus in buses[:10]:  # Limit to 10 buses\n",
        "                lat = bus[\"latitude\"]\n",
        "                lon = bus[\"longitude\"]\n",
        "                traffic_ratio = fetch_traffic(lat, lon)\n",
        "                temp, cond = fetch_weather(lat, lon)\n",
        "                delay_est = int((traffic_ratio - 1.0) * 60) if traffic_ratio > 1.0 else 0\n",
        "\n",
        "                writer.writerow([\n",
        "                    bus[\"timestamp\"],\n",
        "                    bus[\"vehicle_id\"],\n",
        "                    lat,\n",
        "                    lon,\n",
        "                    bus[\"speed\"],\n",
        "                    traffic_ratio,\n",
        "                    temp,\n",
        "                    cond,\n",
        "                    delay_est\n",
        "                ])\n",
        "                rows_written += 1\n",
        "\n",
        "        print(f\"📝 {rows_written} entries written to CSV.\\n\")\n",
        "        time.sleep(30)\n",
        "\n",
        "# === Run ===\n",
        "if __name__ == \"__main__\":\n",
        "    log_data_to_csv()\n"
      ]
    },
    {
      "cell_type": "code",
      "execution_count": null,
      "metadata": {
        "colab": {
          "base_uri": "https://localhost:8080/"
        },
        "id": "HMPi-5FUyeaD",
        "outputId": "f815c61d-d646-4d3a-a7ff-1c27757ab4c6"
      },
      "outputs": [
        {
          "output_type": "stream",
          "name": "stdout",
          "text": [
            "Requirement already satisfied: pandas in /usr/local/lib/python3.11/dist-packages (2.2.2)\n",
            "Requirement already satisfied: numpy in /usr/local/lib/python3.11/dist-packages (2.0.2)\n",
            "Requirement already satisfied: scikit-learn in /usr/local/lib/python3.11/dist-packages (1.6.1)\n",
            "Requirement already satisfied: tensorflow in /usr/local/lib/python3.11/dist-packages (2.18.0)\n",
            "Requirement already satisfied: python-dateutil>=2.8.2 in /usr/local/lib/python3.11/dist-packages (from pandas) (2.9.0.post0)\n",
            "Requirement already satisfied: pytz>=2020.1 in /usr/local/lib/python3.11/dist-packages (from pandas) (2025.2)\n",
            "Requirement already satisfied: tzdata>=2022.7 in /usr/local/lib/python3.11/dist-packages (from pandas) (2025.2)\n",
            "Requirement already satisfied: scipy>=1.6.0 in /usr/local/lib/python3.11/dist-packages (from scikit-learn) (1.15.3)\n",
            "Requirement already satisfied: joblib>=1.2.0 in /usr/local/lib/python3.11/dist-packages (from scikit-learn) (1.5.1)\n",
            "Requirement already satisfied: threadpoolctl>=3.1.0 in /usr/local/lib/python3.11/dist-packages (from scikit-learn) (3.6.0)\n",
            "Requirement already satisfied: absl-py>=1.0.0 in /usr/local/lib/python3.11/dist-packages (from tensorflow) (1.4.0)\n",
            "Requirement already satisfied: astunparse>=1.6.0 in /usr/local/lib/python3.11/dist-packages (from tensorflow) (1.6.3)\n",
            "Requirement already satisfied: flatbuffers>=24.3.25 in /usr/local/lib/python3.11/dist-packages (from tensorflow) (25.2.10)\n",
            "Requirement already satisfied: gast!=0.5.0,!=0.5.1,!=0.5.2,>=0.2.1 in /usr/local/lib/python3.11/dist-packages (from tensorflow) (0.6.0)\n",
            "Requirement already satisfied: google-pasta>=0.1.1 in /usr/local/lib/python3.11/dist-packages (from tensorflow) (0.2.0)\n",
            "Requirement already satisfied: libclang>=13.0.0 in /usr/local/lib/python3.11/dist-packages (from tensorflow) (18.1.1)\n",
            "Requirement already satisfied: opt-einsum>=2.3.2 in /usr/local/lib/python3.11/dist-packages (from tensorflow) (3.4.0)\n",
            "Requirement already satisfied: packaging in /usr/local/lib/python3.11/dist-packages (from tensorflow) (24.2)\n",
            "Requirement already satisfied: protobuf!=4.21.0,!=4.21.1,!=4.21.2,!=4.21.3,!=4.21.4,!=4.21.5,<6.0.0dev,>=3.20.3 in /usr/local/lib/python3.11/dist-packages (from tensorflow) (5.29.5)\n",
            "Requirement already satisfied: requests<3,>=2.21.0 in /usr/local/lib/python3.11/dist-packages (from tensorflow) (2.32.3)\n",
            "Requirement already satisfied: setuptools in /usr/local/lib/python3.11/dist-packages (from tensorflow) (75.2.0)\n",
            "Requirement already satisfied: six>=1.12.0 in /usr/local/lib/python3.11/dist-packages (from tensorflow) (1.17.0)\n",
            "Requirement already satisfied: termcolor>=1.1.0 in /usr/local/lib/python3.11/dist-packages (from tensorflow) (3.1.0)\n",
            "Requirement already satisfied: typing-extensions>=3.6.6 in /usr/local/lib/python3.11/dist-packages (from tensorflow) (4.14.0)\n",
            "Requirement already satisfied: wrapt>=1.11.0 in /usr/local/lib/python3.11/dist-packages (from tensorflow) (1.17.2)\n",
            "Requirement already satisfied: grpcio<2.0,>=1.24.3 in /usr/local/lib/python3.11/dist-packages (from tensorflow) (1.73.1)\n",
            "Requirement already satisfied: tensorboard<2.19,>=2.18 in /usr/local/lib/python3.11/dist-packages (from tensorflow) (2.18.0)\n",
            "Requirement already satisfied: keras>=3.5.0 in /usr/local/lib/python3.11/dist-packages (from tensorflow) (3.8.0)\n",
            "Requirement already satisfied: h5py>=3.11.0 in /usr/local/lib/python3.11/dist-packages (from tensorflow) (3.14.0)\n",
            "Requirement already satisfied: ml-dtypes<0.5.0,>=0.4.0 in /usr/local/lib/python3.11/dist-packages (from tensorflow) (0.4.1)\n",
            "Requirement already satisfied: tensorflow-io-gcs-filesystem>=0.23.1 in /usr/local/lib/python3.11/dist-packages (from tensorflow) (0.37.1)\n",
            "Requirement already satisfied: wheel<1.0,>=0.23.0 in /usr/local/lib/python3.11/dist-packages (from astunparse>=1.6.0->tensorflow) (0.45.1)\n",
            "Requirement already satisfied: rich in /usr/local/lib/python3.11/dist-packages (from keras>=3.5.0->tensorflow) (13.9.4)\n",
            "Requirement already satisfied: namex in /usr/local/lib/python3.11/dist-packages (from keras>=3.5.0->tensorflow) (0.1.0)\n",
            "Requirement already satisfied: optree in /usr/local/lib/python3.11/dist-packages (from keras>=3.5.0->tensorflow) (0.16.0)\n",
            "Requirement already satisfied: charset-normalizer<4,>=2 in /usr/local/lib/python3.11/dist-packages (from requests<3,>=2.21.0->tensorflow) (3.4.2)\n",
            "Requirement already satisfied: idna<4,>=2.5 in /usr/local/lib/python3.11/dist-packages (from requests<3,>=2.21.0->tensorflow) (3.10)\n",
            "Requirement already satisfied: urllib3<3,>=1.21.1 in /usr/local/lib/python3.11/dist-packages (from requests<3,>=2.21.0->tensorflow) (2.4.0)\n",
            "Requirement already satisfied: certifi>=2017.4.17 in /usr/local/lib/python3.11/dist-packages (from requests<3,>=2.21.0->tensorflow) (2025.6.15)\n",
            "Requirement already satisfied: markdown>=2.6.8 in /usr/local/lib/python3.11/dist-packages (from tensorboard<2.19,>=2.18->tensorflow) (3.8.2)\n",
            "Requirement already satisfied: tensorboard-data-server<0.8.0,>=0.7.0 in /usr/local/lib/python3.11/dist-packages (from tensorboard<2.19,>=2.18->tensorflow) (0.7.2)\n",
            "Requirement already satisfied: werkzeug>=1.0.1 in /usr/local/lib/python3.11/dist-packages (from tensorboard<2.19,>=2.18->tensorflow) (3.1.3)\n",
            "Requirement already satisfied: MarkupSafe>=2.1.1 in /usr/local/lib/python3.11/dist-packages (from werkzeug>=1.0.1->tensorboard<2.19,>=2.18->tensorflow) (3.0.2)\n",
            "Requirement already satisfied: markdown-it-py>=2.2.0 in /usr/local/lib/python3.11/dist-packages (from rich->keras>=3.5.0->tensorflow) (3.0.0)\n",
            "Requirement already satisfied: pygments<3.0.0,>=2.13.0 in /usr/local/lib/python3.11/dist-packages (from rich->keras>=3.5.0->tensorflow) (2.19.2)\n",
            "Requirement already satisfied: mdurl~=0.1 in /usr/local/lib/python3.11/dist-packages (from markdown-it-py>=2.2.0->rich->keras>=3.5.0->tensorflow) (0.1.2)\n"
          ]
        }
      ],
      "source": [
        "pip install pandas numpy scikit-learn tensorflow\n"
      ]
    },
    {
      "cell_type": "code",
      "execution_count": null,
      "metadata": {
        "colab": {
          "base_uri": "https://localhost:8080/"
        },
        "id": "p4M1fyXWyg1i",
        "outputId": "1a16243b-37df-4d11-fd7a-ad82dab2cbc7"
      },
      "outputs": [
        {
          "output_type": "stream",
          "name": "stdout",
          "text": [
            "✅ LSTM input shape: (15, 5, 3)\n",
            "Epoch 1/30\n"
          ]
        },
        {
          "output_type": "stream",
          "name": "stderr",
          "text": [
            "/usr/local/lib/python3.11/dist-packages/keras/src/layers/rnn/rnn.py:200: UserWarning: Do not pass an `input_shape`/`input_dim` argument to a layer. When using Sequential models, prefer using an `Input(shape)` object as the first layer in the model instead.\n",
            "  super().__init__(**kwargs)\n"
          ]
        },
        {
          "output_type": "stream",
          "name": "stdout",
          "text": [
            "\u001b[1m1/1\u001b[0m \u001b[32m━━━━━━━━━━━━━━━━━━━━\u001b[0m\u001b[37m\u001b[0m \u001b[1m3s\u001b[0m 3s/step - loss: 0.9488 - mean_absolute_error: 0.9488\n",
            "Epoch 2/30\n",
            "\u001b[1m1/1\u001b[0m \u001b[32m━━━━━━━━━━━━━━━━━━━━\u001b[0m\u001b[37m\u001b[0m \u001b[1m0s\u001b[0m 83ms/step - loss: 0.8743 - mean_absolute_error: 0.8743\n",
            "Epoch 3/30\n",
            "\u001b[1m1/1\u001b[0m \u001b[32m━━━━━━━━━━━━━━━━━━━━\u001b[0m\u001b[37m\u001b[0m \u001b[1m0s\u001b[0m 79ms/step - loss: 0.8389 - mean_absolute_error: 0.8389\n",
            "Epoch 4/30\n",
            "\u001b[1m1/1\u001b[0m \u001b[32m━━━━━━━━━━━━━━━━━━━━\u001b[0m\u001b[37m\u001b[0m \u001b[1m0s\u001b[0m 72ms/step - loss: 0.7974 - mean_absolute_error: 0.7974\n",
            "Epoch 5/30\n",
            "\u001b[1m1/1\u001b[0m \u001b[32m━━━━━━━━━━━━━━━━━━━━\u001b[0m\u001b[37m\u001b[0m \u001b[1m0s\u001b[0m 139ms/step - loss: 0.7697 - mean_absolute_error: 0.7697\n",
            "Epoch 6/30\n",
            "\u001b[1m1/1\u001b[0m \u001b[32m━━━━━━━━━━━━━━━━━━━━\u001b[0m\u001b[37m\u001b[0m \u001b[1m0s\u001b[0m 68ms/step - loss: 0.7778 - mean_absolute_error: 0.7778\n",
            "Epoch 7/30\n",
            "\u001b[1m1/1\u001b[0m \u001b[32m━━━━━━━━━━━━━━━━━━━━\u001b[0m\u001b[37m\u001b[0m \u001b[1m0s\u001b[0m 73ms/step - loss: 0.7682 - mean_absolute_error: 0.7682\n",
            "Epoch 8/30\n",
            "\u001b[1m1/1\u001b[0m \u001b[32m━━━━━━━━━━━━━━━━━━━━\u001b[0m\u001b[37m\u001b[0m \u001b[1m0s\u001b[0m 70ms/step - loss: 0.7779 - mean_absolute_error: 0.7779\n",
            "Epoch 9/30\n",
            "\u001b[1m1/1\u001b[0m \u001b[32m━━━━━━━━━━━━━━━━━━━━\u001b[0m\u001b[37m\u001b[0m \u001b[1m0s\u001b[0m 141ms/step - loss: 0.7922 - mean_absolute_error: 0.7922\n",
            "Epoch 10/30\n",
            "\u001b[1m1/1\u001b[0m \u001b[32m━━━━━━━━━━━━━━━━━━━━\u001b[0m\u001b[37m\u001b[0m \u001b[1m0s\u001b[0m 137ms/step - loss: 0.7746 - mean_absolute_error: 0.7746\n",
            "Epoch 11/30\n",
            "\u001b[1m1/1\u001b[0m \u001b[32m━━━━━━━━━━━━━━━━━━━━\u001b[0m\u001b[37m\u001b[0m \u001b[1m0s\u001b[0m 149ms/step - loss: 0.7664 - mean_absolute_error: 0.7664\n",
            "Epoch 12/30\n",
            "\u001b[1m1/1\u001b[0m \u001b[32m━━━━━━━━━━━━━━━━━━━━\u001b[0m\u001b[37m\u001b[0m \u001b[1m0s\u001b[0m 136ms/step - loss: 0.7549 - mean_absolute_error: 0.7549\n",
            "Epoch 13/30\n",
            "\u001b[1m1/1\u001b[0m \u001b[32m━━━━━━━━━━━━━━━━━━━━\u001b[0m\u001b[37m\u001b[0m \u001b[1m0s\u001b[0m 142ms/step - loss: 0.7640 - mean_absolute_error: 0.7640\n",
            "Epoch 14/30\n",
            "\u001b[1m1/1\u001b[0m \u001b[32m━━━━━━━━━━━━━━━━━━━━\u001b[0m\u001b[37m\u001b[0m \u001b[1m0s\u001b[0m 132ms/step - loss: 0.7535 - mean_absolute_error: 0.7535\n",
            "Epoch 15/30\n",
            "\u001b[1m1/1\u001b[0m \u001b[32m━━━━━━━━━━━━━━━━━━━━\u001b[0m\u001b[37m\u001b[0m \u001b[1m0s\u001b[0m 145ms/step - loss: 0.7526 - mean_absolute_error: 0.7526\n",
            "Epoch 16/30\n",
            "\u001b[1m1/1\u001b[0m \u001b[32m━━━━━━━━━━━━━━━━━━━━\u001b[0m\u001b[37m\u001b[0m \u001b[1m0s\u001b[0m 79ms/step - loss: 0.7626 - mean_absolute_error: 0.7626\n",
            "Epoch 17/30\n",
            "\u001b[1m1/1\u001b[0m \u001b[32m━━━━━━━━━━━━━━━━━━━━\u001b[0m\u001b[37m\u001b[0m \u001b[1m0s\u001b[0m 69ms/step - loss: 0.7613 - mean_absolute_error: 0.7613\n",
            "Epoch 18/30\n",
            "\u001b[1m1/1\u001b[0m \u001b[32m━━━━━━━━━━━━━━━━━━━━\u001b[0m\u001b[37m\u001b[0m \u001b[1m0s\u001b[0m 142ms/step - loss: 0.7586 - mean_absolute_error: 0.7586\n",
            "Epoch 19/30\n",
            "\u001b[1m1/1\u001b[0m \u001b[32m━━━━━━━━━━━━━━━━━━━━\u001b[0m\u001b[37m\u001b[0m \u001b[1m0s\u001b[0m 138ms/step - loss: 0.7518 - mean_absolute_error: 0.7518\n",
            "Epoch 20/30\n",
            "\u001b[1m1/1\u001b[0m \u001b[32m━━━━━━━━━━━━━━━━━━━━\u001b[0m\u001b[37m\u001b[0m \u001b[1m0s\u001b[0m 49ms/step - loss: 0.7621 - mean_absolute_error: 0.7621\n",
            "Epoch 21/30\n",
            "\u001b[1m1/1\u001b[0m \u001b[32m━━━━━━━━━━━━━━━━━━━━\u001b[0m\u001b[37m\u001b[0m \u001b[1m0s\u001b[0m 64ms/step - loss: 0.7506 - mean_absolute_error: 0.7506\n",
            "Epoch 22/30\n",
            "\u001b[1m1/1\u001b[0m \u001b[32m━━━━━━━━━━━━━━━━━━━━\u001b[0m\u001b[37m\u001b[0m \u001b[1m0s\u001b[0m 60ms/step - loss: 0.7455 - mean_absolute_error: 0.7455\n",
            "Epoch 23/30\n",
            "\u001b[1m1/1\u001b[0m \u001b[32m━━━━━━━━━━━━━━━━━━━━\u001b[0m\u001b[37m\u001b[0m \u001b[1m0s\u001b[0m 52ms/step - loss: 0.7527 - mean_absolute_error: 0.7527\n",
            "Epoch 24/30\n",
            "\u001b[1m1/1\u001b[0m \u001b[32m━━━━━━━━━━━━━━━━━━━━\u001b[0m\u001b[37m\u001b[0m \u001b[1m0s\u001b[0m 47ms/step - loss: 0.7513 - mean_absolute_error: 0.7513\n",
            "Epoch 25/30\n",
            "\u001b[1m1/1\u001b[0m \u001b[32m━━━━━━━━━━━━━━━━━━━━\u001b[0m\u001b[37m\u001b[0m \u001b[1m0s\u001b[0m 68ms/step - loss: 0.7638 - mean_absolute_error: 0.7638\n",
            "Epoch 26/30\n",
            "\u001b[1m1/1\u001b[0m \u001b[32m━━━━━━━━━━━━━━━━━━━━\u001b[0m\u001b[37m\u001b[0m \u001b[1m0s\u001b[0m 134ms/step - loss: 0.7489 - mean_absolute_error: 0.7489\n",
            "Epoch 27/30\n",
            "\u001b[1m1/1\u001b[0m \u001b[32m━━━━━━━━━━━━━━━━━━━━\u001b[0m\u001b[37m\u001b[0m \u001b[1m0s\u001b[0m 50ms/step - loss: 0.7542 - mean_absolute_error: 0.7542\n"
          ]
        },
        {
          "output_type": "stream",
          "name": "stderr",
          "text": [
            "WARNING:absl:You are saving your model as an HDF5 file via `model.save()` or `keras.saving.save_model(model)`. This file format is considered legacy. We recommend using instead the native Keras format, e.g. `model.save('my_model.keras')` or `keras.saving.save_model(model, 'my_model.keras')`. \n"
          ]
        },
        {
          "output_type": "stream",
          "name": "stdout",
          "text": [
            "✅ Clean model saved as lstm_eta_model.h5 (no 'mae' error)\n"
          ]
        }
      ],
      "source": [
        "import pandas as pd\n",
        "import numpy as np\n",
        "from sklearn.preprocessing import MinMaxScaler, LabelEncoder\n",
        "from tensorflow.keras.models import Sequential\n",
        "from tensorflow.keras.layers import LSTM, Dense, Dropout\n",
        "from tensorflow.keras.callbacks import EarlyStopping\n",
        "import joblib\n",
        "\n",
        "# === 1. Load and clean data ===\n",
        "df = pd.read_csv(\"bus_data_log.csv\")\n",
        "df.dropna(subset=[\"traffic_ratio\", \"temperature\", \"weather\", \"delay_estimate_sec\"], inplace=True)\n",
        "\n",
        "# === 2. Encode 'weather' ===\n",
        "weather_encoder = LabelEncoder()\n",
        "df[\"weather_encoded\"] = weather_encoder.fit_transform(df[\"weather\"])\n",
        "joblib.dump(weather_encoder, \"weather_encoder.pkl\")\n",
        "\n",
        "# === 3. Select features & normalize ===\n",
        "features = [\"traffic_ratio\", \"temperature\", \"weather_encoded\"]\n",
        "target = \"delay_estimate_sec\"\n",
        "\n",
        "scaler = MinMaxScaler()\n",
        "X_scaled = scaler.fit_transform(df[features])\n",
        "y = df[target].values\n",
        "joblib.dump(scaler, \"feature_scaler.pkl\")\n",
        "\n",
        "# === 4. Make LSTM sequences ===\n",
        "def create_sequences(X, y, time_steps=5):\n",
        "    Xs, ys = [], []\n",
        "    for i in range(len(X) - time_steps):\n",
        "        Xs.append(X[i:i+time_steps])\n",
        "        ys.append(y[i+time_steps])\n",
        "    return np.array(Xs), np.array(ys)\n",
        "\n",
        "X_seq, y_seq = create_sequences(X_scaled, y, time_steps=5)\n",
        "print(\"✅ LSTM input shape:\", X_seq.shape)\n",
        "\n",
        "# === 5. Build LSTM ===\n",
        "model = Sequential()\n",
        "model.add(LSTM(64, input_shape=(X_seq.shape[1], X_seq.shape[2]), return_sequences=False))\n",
        "model.add(Dropout(0.2))\n",
        "model.add(Dense(32, activation='relu'))\n",
        "model.add(Dense(1))\n",
        "\n",
        "# ✅ FIXED: Use full names for loss and metrics\n",
        "model.compile(optimizer='adam', loss='mean_absolute_error', metrics=['mean_absolute_error'])\n",
        "\n",
        "# === 6. Train ===\n",
        "early_stop = EarlyStopping(monitor='loss', patience=5, restore_best_weights=True)\n",
        "model.fit(X_seq, y_seq, epochs=30, batch_size=32, callbacks=[early_stop])\n",
        "\n",
        "# === 7. Save the model cleanly ===\n",
        "model.save(\"lstm_eta_model.h5\")\n",
        "print(\"✅ Clean model saved as lstm_eta_model.h5 (no 'mae' error)\")\n"
      ]
    },
    {
      "cell_type": "code",
      "execution_count": null,
      "metadata": {
        "colab": {
          "base_uri": "https://localhost:8080/"
        },
        "id": "vaK3hn0fz790",
        "outputId": "f53a47c5-ad4e-483c-d695-c52b2639be49"
      },
      "outputs": [
        {
          "output_type": "stream",
          "name": "stdout",
          "text": [
            "Requirement already satisfied: tensorflow in /usr/local/lib/python3.11/dist-packages (2.18.0)\n",
            "Requirement already satisfied: pandas in /usr/local/lib/python3.11/dist-packages (2.2.2)\n",
            "Requirement already satisfied: numpy in /usr/local/lib/python3.11/dist-packages (2.0.2)\n",
            "Requirement already satisfied: requests in /usr/local/lib/python3.11/dist-packages (2.32.3)\n",
            "Requirement already satisfied: scikit-learn in /usr/local/lib/python3.11/dist-packages (1.6.1)\n",
            "Requirement already satisfied: protobuf in /usr/local/lib/python3.11/dist-packages (5.29.5)\n",
            "Requirement already satisfied: absl-py>=1.0.0 in /usr/local/lib/python3.11/dist-packages (from tensorflow) (1.4.0)\n",
            "Requirement already satisfied: astunparse>=1.6.0 in /usr/local/lib/python3.11/dist-packages (from tensorflow) (1.6.3)\n",
            "Requirement already satisfied: flatbuffers>=24.3.25 in /usr/local/lib/python3.11/dist-packages (from tensorflow) (25.2.10)\n",
            "Requirement already satisfied: gast!=0.5.0,!=0.5.1,!=0.5.2,>=0.2.1 in /usr/local/lib/python3.11/dist-packages (from tensorflow) (0.6.0)\n",
            "Requirement already satisfied: google-pasta>=0.1.1 in /usr/local/lib/python3.11/dist-packages (from tensorflow) (0.2.0)\n",
            "Requirement already satisfied: libclang>=13.0.0 in /usr/local/lib/python3.11/dist-packages (from tensorflow) (18.1.1)\n",
            "Requirement already satisfied: opt-einsum>=2.3.2 in /usr/local/lib/python3.11/dist-packages (from tensorflow) (3.4.0)\n",
            "Requirement already satisfied: packaging in /usr/local/lib/python3.11/dist-packages (from tensorflow) (24.2)\n",
            "Requirement already satisfied: setuptools in /usr/local/lib/python3.11/dist-packages (from tensorflow) (75.2.0)\n",
            "Requirement already satisfied: six>=1.12.0 in /usr/local/lib/python3.11/dist-packages (from tensorflow) (1.17.0)\n",
            "Requirement already satisfied: termcolor>=1.1.0 in /usr/local/lib/python3.11/dist-packages (from tensorflow) (3.1.0)\n",
            "Requirement already satisfied: typing-extensions>=3.6.6 in /usr/local/lib/python3.11/dist-packages (from tensorflow) (4.14.0)\n",
            "Requirement already satisfied: wrapt>=1.11.0 in /usr/local/lib/python3.11/dist-packages (from tensorflow) (1.17.2)\n",
            "Requirement already satisfied: grpcio<2.0,>=1.24.3 in /usr/local/lib/python3.11/dist-packages (from tensorflow) (1.73.1)\n",
            "Requirement already satisfied: tensorboard<2.19,>=2.18 in /usr/local/lib/python3.11/dist-packages (from tensorflow) (2.18.0)\n",
            "Requirement already satisfied: keras>=3.5.0 in /usr/local/lib/python3.11/dist-packages (from tensorflow) (3.8.0)\n",
            "Requirement already satisfied: h5py>=3.11.0 in /usr/local/lib/python3.11/dist-packages (from tensorflow) (3.14.0)\n",
            "Requirement already satisfied: ml-dtypes<0.5.0,>=0.4.0 in /usr/local/lib/python3.11/dist-packages (from tensorflow) (0.4.1)\n",
            "Requirement already satisfied: tensorflow-io-gcs-filesystem>=0.23.1 in /usr/local/lib/python3.11/dist-packages (from tensorflow) (0.37.1)\n",
            "Requirement already satisfied: python-dateutil>=2.8.2 in /usr/local/lib/python3.11/dist-packages (from pandas) (2.9.0.post0)\n",
            "Requirement already satisfied: pytz>=2020.1 in /usr/local/lib/python3.11/dist-packages (from pandas) (2025.2)\n",
            "Requirement already satisfied: tzdata>=2022.7 in /usr/local/lib/python3.11/dist-packages (from pandas) (2025.2)\n",
            "Requirement already satisfied: charset-normalizer<4,>=2 in /usr/local/lib/python3.11/dist-packages (from requests) (3.4.2)\n",
            "Requirement already satisfied: idna<4,>=2.5 in /usr/local/lib/python3.11/dist-packages (from requests) (3.10)\n",
            "Requirement already satisfied: urllib3<3,>=1.21.1 in /usr/local/lib/python3.11/dist-packages (from requests) (2.4.0)\n",
            "Requirement already satisfied: certifi>=2017.4.17 in /usr/local/lib/python3.11/dist-packages (from requests) (2025.6.15)\n",
            "Requirement already satisfied: scipy>=1.6.0 in /usr/local/lib/python3.11/dist-packages (from scikit-learn) (1.15.3)\n",
            "Requirement already satisfied: joblib>=1.2.0 in /usr/local/lib/python3.11/dist-packages (from scikit-learn) (1.5.1)\n",
            "Requirement already satisfied: threadpoolctl>=3.1.0 in /usr/local/lib/python3.11/dist-packages (from scikit-learn) (3.6.0)\n",
            "Requirement already satisfied: wheel<1.0,>=0.23.0 in /usr/local/lib/python3.11/dist-packages (from astunparse>=1.6.0->tensorflow) (0.45.1)\n",
            "Requirement already satisfied: rich in /usr/local/lib/python3.11/dist-packages (from keras>=3.5.0->tensorflow) (13.9.4)\n",
            "Requirement already satisfied: namex in /usr/local/lib/python3.11/dist-packages (from keras>=3.5.0->tensorflow) (0.1.0)\n",
            "Requirement already satisfied: optree in /usr/local/lib/python3.11/dist-packages (from keras>=3.5.0->tensorflow) (0.16.0)\n",
            "Requirement already satisfied: markdown>=2.6.8 in /usr/local/lib/python3.11/dist-packages (from tensorboard<2.19,>=2.18->tensorflow) (3.8.2)\n",
            "Requirement already satisfied: tensorboard-data-server<0.8.0,>=0.7.0 in /usr/local/lib/python3.11/dist-packages (from tensorboard<2.19,>=2.18->tensorflow) (0.7.2)\n",
            "Requirement already satisfied: werkzeug>=1.0.1 in /usr/local/lib/python3.11/dist-packages (from tensorboard<2.19,>=2.18->tensorflow) (3.1.3)\n",
            "Requirement already satisfied: MarkupSafe>=2.1.1 in /usr/local/lib/python3.11/dist-packages (from werkzeug>=1.0.1->tensorboard<2.19,>=2.18->tensorflow) (3.0.2)\n",
            "Requirement already satisfied: markdown-it-py>=2.2.0 in /usr/local/lib/python3.11/dist-packages (from rich->keras>=3.5.0->tensorflow) (3.0.0)\n",
            "Requirement already satisfied: pygments<3.0.0,>=2.13.0 in /usr/local/lib/python3.11/dist-packages (from rich->keras>=3.5.0->tensorflow) (2.19.2)\n",
            "Requirement already satisfied: mdurl~=0.1 in /usr/local/lib/python3.11/dist-packages (from markdown-it-py>=2.2.0->rich->keras>=3.5.0->tensorflow) (0.1.2)\n"
          ]
        }
      ],
      "source": [
        "pip install tensorflow pandas numpy requests scikit-learn protobuf\n"
      ]
    },
    {
      "cell_type": "code",
      "execution_count": null,
      "metadata": {
        "colab": {
          "base_uri": "https://localhost:8080/",
          "height": 1000
        },
        "id": "jA7IJeGZ0AHT",
        "outputId": "f86f0312-3ad3-439b-9f1f-2cb1f91892d5"
      },
      "outputs": [
        {
          "output_type": "stream",
          "name": "stderr",
          "text": [
            "WARNING:absl:Compiled the loaded model, but the compiled metrics have yet to be built. `model.compile_metrics` will be empty until you train or evaluate the model.\n"
          ]
        },
        {
          "output_type": "stream",
          "name": "stdout",
          "text": [
            "\n",
            "🚦 Real-time ETA Predictions — 10:52:36\n",
            "⏳ Waiting for 5 samples... (1/5) for MTA NYCT_9775\n",
            "⏳ Waiting for 5 samples... (2/5) for MTA NYCT_7112\n",
            "⏳ Waiting for 5 samples... (3/5) for MTA NYCT_8444\n",
            "⏳ Waiting for 5 samples... (4/5) for MTA NYCT_9773\n"
          ]
        },
        {
          "output_type": "stream",
          "name": "stderr",
          "text": [
            "/usr/local/lib/python3.11/dist-packages/sklearn/utils/validation.py:2739: UserWarning: X does not have valid feature names, but MinMaxScaler was fitted with feature names\n",
            "  warnings.warn(\n"
          ]
        },
        {
          "output_type": "stream",
          "name": "stdout",
          "text": [
            "\u001b[1m1/1\u001b[0m \u001b[32m━━━━━━━━━━━━━━━━━━━━\u001b[0m\u001b[37m\u001b[0m \u001b[1m0s\u001b[0m 295ms/step\n",
            "\n",
            "🚌 Bus ID: MTA NYCT_8441\n",
            "📍 Location: (40.71445, -73.79344)\n",
            "🕒 Time (New York): 2025-07-12 06:52:17 EDT\n",
            "🚗 Traffic Ratio: 1.0, 🌡 Temp: 22.96°C, ☁ Weather: Clouds\n",
            "⏳ Predicted Delay: 0 seconds\n",
            "\n",
            "🚦 Real-time ETA Predictions — 10:53:07\n",
            "\u001b[1m1/1\u001b[0m \u001b[32m━━━━━━━━━━━━━━━━━━━━\u001b[0m\u001b[37m\u001b[0m \u001b[1m0s\u001b[0m 35ms/step\n"
          ]
        },
        {
          "output_type": "stream",
          "name": "stderr",
          "text": [
            "/usr/local/lib/python3.11/dist-packages/sklearn/utils/validation.py:2739: UserWarning: X does not have valid feature names, but MinMaxScaler was fitted with feature names\n",
            "  warnings.warn(\n"
          ]
        },
        {
          "output_type": "stream",
          "name": "stdout",
          "text": [
            "\n",
            "🚌 Bus ID: MTA NYCT_9775\n",
            "📍 Location: (40.77131, -73.98324)\n",
            "🕒 Time (New York): 2025-07-12 06:52:55 EDT\n",
            "🚗 Traffic Ratio: 1.0, 🌡 Temp: 23.38°C, ☁ Weather: Clouds\n",
            "⏳ Predicted Delay: 0 seconds\n",
            "\u001b[1m1/1\u001b[0m \u001b[32m━━━━━━━━━━━━━━━━━━━━\u001b[0m\u001b[37m\u001b[0m \u001b[1m0s\u001b[0m 37ms/step\n"
          ]
        },
        {
          "output_type": "stream",
          "name": "stderr",
          "text": [
            "/usr/local/lib/python3.11/dist-packages/sklearn/utils/validation.py:2739: UserWarning: X does not have valid feature names, but MinMaxScaler was fitted with feature names\n",
            "  warnings.warn(\n"
          ]
        },
        {
          "output_type": "stream",
          "name": "stdout",
          "text": [
            "\n",
            "🚌 Bus ID: MTA NYCT_7112\n",
            "📍 Location: (40.63640, -73.89259)\n",
            "🕒 Time (New York): 2025-07-12 06:52:52 EDT\n",
            "🚗 Traffic Ratio: 1.0, 🌡 Temp: 23.49°C, ☁ Weather: Clouds\n",
            "⏳ Predicted Delay: 0 seconds\n",
            "\u001b[1m1/1\u001b[0m \u001b[32m━━━━━━━━━━━━━━━━━━━━\u001b[0m\u001b[37m\u001b[0m \u001b[1m0s\u001b[0m 37ms/step\n"
          ]
        },
        {
          "output_type": "stream",
          "name": "stderr",
          "text": [
            "/usr/local/lib/python3.11/dist-packages/sklearn/utils/validation.py:2739: UserWarning: X does not have valid feature names, but MinMaxScaler was fitted with feature names\n",
            "  warnings.warn(\n"
          ]
        },
        {
          "output_type": "stream",
          "name": "stdout",
          "text": [
            "\n",
            "🚌 Bus ID: MTA NYCT_8444\n",
            "📍 Location: (40.58194, -74.16253)\n",
            "🕒 Time (New York): 2025-07-12 06:52:44 EDT\n",
            "🚗 Traffic Ratio: 1.0, 🌡 Temp: 22.97°C, ☁ Weather: Clear\n",
            "⏳ Predicted Delay: 0 seconds\n",
            "\u001b[1m1/1\u001b[0m \u001b[32m━━━━━━━━━━━━━━━━━━━━\u001b[0m\u001b[37m\u001b[0m \u001b[1m0s\u001b[0m 50ms/step\n"
          ]
        },
        {
          "output_type": "stream",
          "name": "stderr",
          "text": [
            "/usr/local/lib/python3.11/dist-packages/sklearn/utils/validation.py:2739: UserWarning: X does not have valid feature names, but MinMaxScaler was fitted with feature names\n",
            "  warnings.warn(\n"
          ]
        },
        {
          "output_type": "stream",
          "name": "stdout",
          "text": [
            "\n",
            "🚌 Bus ID: MTA NYCT_9773\n",
            "📍 Location: (40.81005, -73.95311)\n",
            "🕒 Time (New York): 2025-07-12 06:52:46 EDT\n",
            "🚗 Traffic Ratio: 1.0, 🌡 Temp: 23.18°C, ☁ Weather: Clouds\n",
            "⏳ Predicted Delay: 0 seconds\n",
            "\u001b[1m1/1\u001b[0m \u001b[32m━━━━━━━━━━━━━━━━━━━━\u001b[0m\u001b[37m\u001b[0m \u001b[1m0s\u001b[0m 36ms/step\n"
          ]
        },
        {
          "output_type": "stream",
          "name": "stderr",
          "text": [
            "/usr/local/lib/python3.11/dist-packages/sklearn/utils/validation.py:2739: UserWarning: X does not have valid feature names, but MinMaxScaler was fitted with feature names\n",
            "  warnings.warn(\n"
          ]
        },
        {
          "output_type": "stream",
          "name": "stdout",
          "text": [
            "\n",
            "🚌 Bus ID: MTA NYCT_8441\n",
            "📍 Location: (40.71556, -73.79279)\n",
            "🕒 Time (New York): 2025-07-12 06:52:48 EDT\n",
            "🚗 Traffic Ratio: 1.0, 🌡 Temp: 22.91°C, ☁ Weather: Clouds\n",
            "⏳ Predicted Delay: 0 seconds\n"
          ]
        },
        {
          "output_type": "error",
          "ename": "KeyboardInterrupt",
          "evalue": "",
          "traceback": [
            "\u001b[0;31m---------------------------------------------------------------------------\u001b[0m",
            "\u001b[0;31mKeyboardInterrupt\u001b[0m                         Traceback (most recent call last)",
            "\u001b[0;32m/tmp/ipython-input-5-2608520169.py\u001b[0m in \u001b[0;36m<cell line: 0>\u001b[0;34m()\u001b[0m\n\u001b[1;32m    126\u001b[0m \u001b[0;31m# === Run the script ===\u001b[0m\u001b[0;34m\u001b[0m\u001b[0;34m\u001b[0m\u001b[0m\n\u001b[1;32m    127\u001b[0m \u001b[0;32mif\u001b[0m \u001b[0m__name__\u001b[0m \u001b[0;34m==\u001b[0m \u001b[0;34m\"__main__\"\u001b[0m\u001b[0;34m:\u001b[0m\u001b[0;34m\u001b[0m\u001b[0;34m\u001b[0m\u001b[0m\n\u001b[0;32m--> 128\u001b[0;31m     \u001b[0mpredict_eta_live\u001b[0m\u001b[0;34m(\u001b[0m\u001b[0;34m)\u001b[0m\u001b[0;34m\u001b[0m\u001b[0;34m\u001b[0m\u001b[0m\n\u001b[0m",
            "\u001b[0;32m/tmp/ipython-input-5-2608520169.py\u001b[0m in \u001b[0;36mpredict_eta_live\u001b[0;34m()\u001b[0m\n\u001b[1;32m    122\u001b[0m             \u001b[0mprint\u001b[0m\u001b[0;34m(\u001b[0m\u001b[0;34mf\"⏳ Predicted Delay: {eta_delay} seconds\"\u001b[0m\u001b[0;34m)\u001b[0m\u001b[0;34m\u001b[0m\u001b[0;34m\u001b[0m\u001b[0m\n\u001b[1;32m    123\u001b[0m \u001b[0;34m\u001b[0m\u001b[0m\n\u001b[0;32m--> 124\u001b[0;31m         \u001b[0mtime\u001b[0m\u001b[0;34m.\u001b[0m\u001b[0msleep\u001b[0m\u001b[0;34m(\u001b[0m\u001b[0;36m30\u001b[0m\u001b[0;34m)\u001b[0m\u001b[0;34m\u001b[0m\u001b[0;34m\u001b[0m\u001b[0m\n\u001b[0m\u001b[1;32m    125\u001b[0m \u001b[0;34m\u001b[0m\u001b[0m\n\u001b[1;32m    126\u001b[0m \u001b[0;31m# === Run the script ===\u001b[0m\u001b[0;34m\u001b[0m\u001b[0;34m\u001b[0m\u001b[0m\n",
            "\u001b[0;31mKeyboardInterrupt\u001b[0m: "
          ]
        }
      ],
      "source": [
        "import time\n",
        "import requests\n",
        "import numpy as np\n",
        "import pandas as pd\n",
        "import joblib\n",
        "from datetime import datetime\n",
        "import pytz\n",
        "from google.transit import gtfs_realtime_pb2\n",
        "from tensorflow.keras.models import load_model\n",
        "\n",
        "# === Load trained model and preprocessors ===\n",
        "model = load_model(\"lstm_eta_model.h5\")\n",
        "scaler = joblib.load(\"feature_scaler.pkl\")\n",
        "weather_encoder = joblib.load(\"weather_encoder.pkl\")\n",
        "\n",
        "# === API KEYS ===\n",
        "MTA_API_KEY = \"bab3392b-58f0-42c2-8b61-421d6a03e72e\"\n",
        "TOMTOM_API_KEY = \"gmKSHRhMEQ1oXOnhV5wKL2B3WE45SZL9\"\n",
        "OPENWEATHER_API_KEY = \"d7836e8948f06edd3c191fa978ff266f\"\n",
        "\n",
        "# === API URLs ===\n",
        "MTA_API_URL = \"https://gtfsrt.prod.obanyc.com/vehiclePositions\"\n",
        "TOMTOM_URL = \"https://api.tomtom.com/traffic/services/4/flowSegmentData/absolute/10/json\"\n",
        "OPENWEATHER_URL = \"https://api.openweathermap.org/data/2.5/weather\"\n",
        "\n",
        "# === Fetch functions ===\n",
        "def fetch_mta_data():\n",
        "    headers = {\"x-api-key\": MTA_API_KEY}\n",
        "    try:\n",
        "        response = requests.get(MTA_API_URL, headers=headers)\n",
        "        feed = gtfs_realtime_pb2.FeedMessage()\n",
        "        feed.ParseFromString(response.content)\n",
        "        buses = []\n",
        "        for entity in feed.entity:\n",
        "            if entity.HasField(\"vehicle\"):\n",
        "                v = entity.vehicle\n",
        "                buses.append({\n",
        "                    \"vehicle_id\": v.vehicle.id,\n",
        "                    \"route_id\": v.trip.route_id,\n",
        "                    \"trip_id\": v.trip.trip_id,\n",
        "                    \"latitude\": v.position.latitude,\n",
        "                    \"longitude\": v.position.longitude,\n",
        "                    \"timestamp\": v.timestamp\n",
        "                })\n",
        "        return buses\n",
        "    except:\n",
        "        return []\n",
        "\n",
        "def fetch_traffic(lat, lon):\n",
        "    try:\n",
        "        params = {\"point\": f\"{lat},{lon}\", \"unit\": \"KMPH\", \"key\": TOMTOM_API_KEY}\n",
        "        r = requests.get(TOMTOM_URL, params=params)\n",
        "        if r.status_code == 200:\n",
        "            d = r.json()\n",
        "            return round(d[\"flowSegmentData\"][\"currentTravelTime\"] / d[\"flowSegmentData\"][\"freeFlowTravelTime\"], 2)\n",
        "    except:\n",
        "        pass\n",
        "    return 1.0\n",
        "\n",
        "def fetch_weather(lat, lon):\n",
        "    try:\n",
        "        params = {\"lat\": lat, \"lon\": lon, \"appid\": OPENWEATHER_API_KEY, \"units\": \"metric\"}\n",
        "        r = requests.get(OPENWEATHER_URL, params=params)\n",
        "        if r.status_code == 200:\n",
        "            d = r.json()\n",
        "            return d[\"main\"][\"temp\"], d[\"weather\"][0][\"main\"]\n",
        "    except:\n",
        "        pass\n",
        "    return 25.0, \"Clear\"\n",
        "\n",
        "# === Convert UTC timestamp to New York time ===\n",
        "def convert_to_ny(utc_timestamp):\n",
        "    utc_dt = datetime.utcfromtimestamp(utc_timestamp).replace(tzinfo=pytz.utc)\n",
        "    ny_tz = pytz.timezone(\"America/New_York\")\n",
        "    ny_time = utc_dt.astimezone(ny_tz)\n",
        "    return ny_time.strftime(\"%Y-%m-%d %H:%M:%S %Z\")\n",
        "\n",
        "# === Real-time Prediction Loop ===\n",
        "def predict_eta_live():\n",
        "    history = []\n",
        "\n",
        "    while True:\n",
        "        print(\"\\n🚦 Real-time ETA Predictions —\", datetime.now().strftime(\"%H:%M:%S\"))\n",
        "        buses = fetch_mta_data()\n",
        "\n",
        "        for bus in buses[:5]:  # Limit to 5 buses\n",
        "            lat = bus[\"latitude\"]\n",
        "            lon = bus[\"longitude\"]\n",
        "            ts = bus[\"timestamp\"]\n",
        "            vehicle_id = bus[\"vehicle_id\"]\n",
        "\n",
        "            traffic_ratio = fetch_traffic(lat, lon)\n",
        "            temp, weather = fetch_weather(lat, lon)\n",
        "            ny_time = convert_to_ny(ts)\n",
        "\n",
        "            # Handle unseen weather labels\n",
        "            if weather in weather_encoder.classes_:\n",
        "                weather_code = weather_encoder.transform([weather])[0]\n",
        "            else:\n",
        "                weather_code = 0\n",
        "\n",
        "            # Add new point to history\n",
        "            point = [traffic_ratio, temp, weather_code]\n",
        "            history.append(point)\n",
        "\n",
        "            if len(history) < 5:\n",
        "                print(f\"⏳ Waiting for 5 samples... ({len(history)}/5) for {vehicle_id}\")\n",
        "                continue\n",
        "\n",
        "            # Use only last 5 steps\n",
        "            X = np.array(history[-5:])  # (5, 3)\n",
        "            X_scaled = scaler.transform(X).reshape(1, 5, 3)\n",
        "\n",
        "            # Predict delay\n",
        "            eta_delay = float(model.predict(X_scaled)[0][0])\n",
        "            eta_delay = max(0, round(eta_delay))\n",
        "\n",
        "            print(f\"\\n🚌 Bus ID: {vehicle_id}\")\n",
        "            print(f\"📍 Location: ({lat:.5f}, {lon:.5f})\")\n",
        "            print(f\"🕒 Time (New York): {ny_time}\")\n",
        "            print(f\"🚗 Traffic Ratio: {traffic_ratio}, 🌡 Temp: {temp}°C, ☁ Weather: {weather}\")\n",
        "            print(f\"⏳ Predicted Delay: {eta_delay} seconds\")\n",
        "\n",
        "        time.sleep(30)\n",
        "\n",
        "# === Run the script ===\n",
        "if __name__ == \"__main__\":\n",
        "    predict_eta_live()\n"
      ]
    },
    {
      "cell_type": "code",
      "execution_count": null,
      "metadata": {
        "colab": {
          "base_uri": "https://localhost:8080/"
        },
        "id": "n_TQMC-31cUM",
        "outputId": "0a1634c9-8f44-43a0-a64a-391d78e36ba1"
      },
      "outputs": [
        {
          "output_type": "stream",
          "name": "stdout",
          "text": [
            "Requirement already satisfied: streamlit in /usr/local/lib/python3.11/dist-packages (1.46.1)\n",
            "Requirement already satisfied: streamlit-folium in /usr/local/lib/python3.11/dist-packages (0.25.0)\n",
            "Requirement already satisfied: folium in /usr/local/lib/python3.11/dist-packages (0.19.7)\n",
            "Requirement already satisfied: joblib in /usr/local/lib/python3.11/dist-packages (1.5.1)\n",
            "Requirement already satisfied: tensorflow in /usr/local/lib/python3.11/dist-packages (2.18.0)\n",
            "Requirement already satisfied: scikit-learn in /usr/local/lib/python3.11/dist-packages (1.6.1)\n",
            "Requirement already satisfied: altair<6,>=4.0 in /usr/local/lib/python3.11/dist-packages (from streamlit) (5.5.0)\n",
            "Requirement already satisfied: blinker<2,>=1.5.0 in /usr/local/lib/python3.11/dist-packages (from streamlit) (1.9.0)\n",
            "Requirement already satisfied: cachetools<7,>=4.0 in /usr/local/lib/python3.11/dist-packages (from streamlit) (5.5.2)\n",
            "Requirement already satisfied: click<9,>=7.0 in /usr/local/lib/python3.11/dist-packages (from streamlit) (8.2.1)\n",
            "Requirement already satisfied: numpy<3,>=1.23 in /usr/local/lib/python3.11/dist-packages (from streamlit) (2.0.2)\n",
            "Requirement already satisfied: packaging<26,>=20 in /usr/local/lib/python3.11/dist-packages (from streamlit) (24.2)\n",
            "Requirement already satisfied: pandas<3,>=1.4.0 in /usr/local/lib/python3.11/dist-packages (from streamlit) (2.2.2)\n",
            "Requirement already satisfied: pillow<12,>=7.1.0 in /usr/local/lib/python3.11/dist-packages (from streamlit) (11.2.1)\n",
            "Requirement already satisfied: protobuf<7,>=3.20 in /usr/local/lib/python3.11/dist-packages (from streamlit) (5.29.5)\n",
            "Requirement already satisfied: pyarrow>=7.0 in /usr/local/lib/python3.11/dist-packages (from streamlit) (18.1.0)\n",
            "Requirement already satisfied: requests<3,>=2.27 in /usr/local/lib/python3.11/dist-packages (from streamlit) (2.32.3)\n",
            "Requirement already satisfied: tenacity<10,>=8.1.0 in /usr/local/lib/python3.11/dist-packages (from streamlit) (8.5.0)\n",
            "Requirement already satisfied: toml<2,>=0.10.1 in /usr/local/lib/python3.11/dist-packages (from streamlit) (0.10.2)\n",
            "Requirement already satisfied: typing-extensions<5,>=4.4.0 in /usr/local/lib/python3.11/dist-packages (from streamlit) (4.14.1)\n",
            "Requirement already satisfied: watchdog<7,>=2.1.5 in /usr/local/lib/python3.11/dist-packages (from streamlit) (6.0.0)\n",
            "Requirement already satisfied: gitpython!=3.1.19,<4,>=3.0.7 in /usr/local/lib/python3.11/dist-packages (from streamlit) (3.1.44)\n",
            "Requirement already satisfied: pydeck<1,>=0.8.0b4 in /usr/local/lib/python3.11/dist-packages (from streamlit) (0.9.1)\n",
            "Requirement already satisfied: tornado!=6.5.0,<7,>=6.0.3 in /usr/local/lib/python3.11/dist-packages (from streamlit) (6.4.2)\n",
            "Requirement already satisfied: jinja2 in /usr/local/lib/python3.11/dist-packages (from streamlit-folium) (3.1.6)\n",
            "Requirement already satisfied: branca in /usr/local/lib/python3.11/dist-packages (from streamlit-folium) (0.8.1)\n",
            "Requirement already satisfied: xyzservices in /usr/local/lib/python3.11/dist-packages (from folium) (2025.4.0)\n",
            "Requirement already satisfied: absl-py>=1.0.0 in /usr/local/lib/python3.11/dist-packages (from tensorflow) (1.4.0)\n",
            "Requirement already satisfied: astunparse>=1.6.0 in /usr/local/lib/python3.11/dist-packages (from tensorflow) (1.6.3)\n",
            "Requirement already satisfied: flatbuffers>=24.3.25 in /usr/local/lib/python3.11/dist-packages (from tensorflow) (25.2.10)\n",
            "Requirement already satisfied: gast!=0.5.0,!=0.5.1,!=0.5.2,>=0.2.1 in /usr/local/lib/python3.11/dist-packages (from tensorflow) (0.6.0)\n",
            "Requirement already satisfied: google-pasta>=0.1.1 in /usr/local/lib/python3.11/dist-packages (from tensorflow) (0.2.0)\n",
            "Requirement already satisfied: libclang>=13.0.0 in /usr/local/lib/python3.11/dist-packages (from tensorflow) (18.1.1)\n",
            "Requirement already satisfied: opt-einsum>=2.3.2 in /usr/local/lib/python3.11/dist-packages (from tensorflow) (3.4.0)\n",
            "Requirement already satisfied: setuptools in /usr/local/lib/python3.11/dist-packages (from tensorflow) (75.2.0)\n",
            "Requirement already satisfied: six>=1.12.0 in /usr/local/lib/python3.11/dist-packages (from tensorflow) (1.17.0)\n",
            "Requirement already satisfied: termcolor>=1.1.0 in /usr/local/lib/python3.11/dist-packages (from tensorflow) (3.1.0)\n",
            "Requirement already satisfied: wrapt>=1.11.0 in /usr/local/lib/python3.11/dist-packages (from tensorflow) (1.17.2)\n",
            "Requirement already satisfied: grpcio<2.0,>=1.24.3 in /usr/local/lib/python3.11/dist-packages (from tensorflow) (1.73.1)\n",
            "Requirement already satisfied: tensorboard<2.19,>=2.18 in /usr/local/lib/python3.11/dist-packages (from tensorflow) (2.18.0)\n",
            "Requirement already satisfied: keras>=3.5.0 in /usr/local/lib/python3.11/dist-packages (from tensorflow) (3.8.0)\n",
            "Requirement already satisfied: h5py>=3.11.0 in /usr/local/lib/python3.11/dist-packages (from tensorflow) (3.14.0)\n",
            "Requirement already satisfied: ml-dtypes<0.5.0,>=0.4.0 in /usr/local/lib/python3.11/dist-packages (from tensorflow) (0.4.1)\n",
            "Requirement already satisfied: tensorflow-io-gcs-filesystem>=0.23.1 in /usr/local/lib/python3.11/dist-packages (from tensorflow) (0.37.1)\n",
            "Requirement already satisfied: scipy>=1.6.0 in /usr/local/lib/python3.11/dist-packages (from scikit-learn) (1.15.3)\n",
            "Requirement already satisfied: threadpoolctl>=3.1.0 in /usr/local/lib/python3.11/dist-packages (from scikit-learn) (3.6.0)\n",
            "Requirement already satisfied: jsonschema>=3.0 in /usr/local/lib/python3.11/dist-packages (from altair<6,>=4.0->streamlit) (4.24.0)\n",
            "Requirement already satisfied: narwhals>=1.14.2 in /usr/local/lib/python3.11/dist-packages (from altair<6,>=4.0->streamlit) (1.46.0)\n",
            "Requirement already satisfied: wheel<1.0,>=0.23.0 in /usr/local/lib/python3.11/dist-packages (from astunparse>=1.6.0->tensorflow) (0.45.1)\n",
            "Requirement already satisfied: gitdb<5,>=4.0.1 in /usr/local/lib/python3.11/dist-packages (from gitpython!=3.1.19,<4,>=3.0.7->streamlit) (4.0.12)\n",
            "Requirement already satisfied: MarkupSafe>=2.0 in /usr/local/lib/python3.11/dist-packages (from jinja2->streamlit-folium) (3.0.2)\n",
            "Requirement already satisfied: rich in /usr/local/lib/python3.11/dist-packages (from keras>=3.5.0->tensorflow) (13.9.4)\n",
            "Requirement already satisfied: namex in /usr/local/lib/python3.11/dist-packages (from keras>=3.5.0->tensorflow) (0.1.0)\n",
            "Requirement already satisfied: optree in /usr/local/lib/python3.11/dist-packages (from keras>=3.5.0->tensorflow) (0.16.0)\n",
            "Requirement already satisfied: python-dateutil>=2.8.2 in /usr/local/lib/python3.11/dist-packages (from pandas<3,>=1.4.0->streamlit) (2.9.0.post0)\n",
            "Requirement already satisfied: pytz>=2020.1 in /usr/local/lib/python3.11/dist-packages (from pandas<3,>=1.4.0->streamlit) (2025.2)\n",
            "Requirement already satisfied: tzdata>=2022.7 in /usr/local/lib/python3.11/dist-packages (from pandas<3,>=1.4.0->streamlit) (2025.2)\n",
            "Requirement already satisfied: charset-normalizer<4,>=2 in /usr/local/lib/python3.11/dist-packages (from requests<3,>=2.27->streamlit) (3.4.2)\n",
            "Requirement already satisfied: idna<4,>=2.5 in /usr/local/lib/python3.11/dist-packages (from requests<3,>=2.27->streamlit) (3.10)\n",
            "Requirement already satisfied: urllib3<3,>=1.21.1 in /usr/local/lib/python3.11/dist-packages (from requests<3,>=2.27->streamlit) (2.4.0)\n",
            "Requirement already satisfied: certifi>=2017.4.17 in /usr/local/lib/python3.11/dist-packages (from requests<3,>=2.27->streamlit) (2025.7.9)\n",
            "Requirement already satisfied: markdown>=2.6.8 in /usr/local/lib/python3.11/dist-packages (from tensorboard<2.19,>=2.18->tensorflow) (3.8.2)\n",
            "Requirement already satisfied: tensorboard-data-server<0.8.0,>=0.7.0 in /usr/local/lib/python3.11/dist-packages (from tensorboard<2.19,>=2.18->tensorflow) (0.7.2)\n",
            "Requirement already satisfied: werkzeug>=1.0.1 in /usr/local/lib/python3.11/dist-packages (from tensorboard<2.19,>=2.18->tensorflow) (3.1.3)\n",
            "Requirement already satisfied: smmap<6,>=3.0.1 in /usr/local/lib/python3.11/dist-packages (from gitdb<5,>=4.0.1->gitpython!=3.1.19,<4,>=3.0.7->streamlit) (5.0.2)\n",
            "Requirement already satisfied: attrs>=22.2.0 in /usr/local/lib/python3.11/dist-packages (from jsonschema>=3.0->altair<6,>=4.0->streamlit) (25.3.0)\n",
            "Requirement already satisfied: jsonschema-specifications>=2023.03.6 in /usr/local/lib/python3.11/dist-packages (from jsonschema>=3.0->altair<6,>=4.0->streamlit) (2025.4.1)\n",
            "Requirement already satisfied: referencing>=0.28.4 in /usr/local/lib/python3.11/dist-packages (from jsonschema>=3.0->altair<6,>=4.0->streamlit) (0.36.2)\n",
            "Requirement already satisfied: rpds-py>=0.7.1 in /usr/local/lib/python3.11/dist-packages (from jsonschema>=3.0->altair<6,>=4.0->streamlit) (0.26.0)\n",
            "Requirement already satisfied: markdown-it-py>=2.2.0 in /usr/local/lib/python3.11/dist-packages (from rich->keras>=3.5.0->tensorflow) (3.0.0)\n",
            "Requirement already satisfied: pygments<3.0.0,>=2.13.0 in /usr/local/lib/python3.11/dist-packages (from rich->keras>=3.5.0->tensorflow) (2.19.2)\n",
            "Requirement already satisfied: mdurl~=0.1 in /usr/local/lib/python3.11/dist-packages (from markdown-it-py>=2.2.0->rich->keras>=3.5.0->tensorflow) (0.1.2)\n"
          ]
        }
      ],
      "source": [
        "pip install streamlit streamlit-folium folium joblib tensorflow scikit-learn\n"
      ]
    },
    {
      "cell_type": "code",
      "execution_count": null,
      "metadata": {
        "colab": {
          "base_uri": "https://localhost:8080/"
        },
        "id": "PYWc-z323QCH",
        "outputId": "d7addb82-c921-4da9-e6af-dc32e5dddab6"
      },
      "outputs": [
        {
          "output_type": "stream",
          "name": "stdout",
          "text": [
            "Collecting streamlit\n",
            "  Downloading streamlit-1.46.1-py3-none-any.whl.metadata (9.0 kB)\n",
            "Collecting streamlit-folium\n",
            "  Downloading streamlit_folium-0.25.0-py3-none-any.whl.metadata (621 bytes)\n",
            "Collecting pyngrok\n",
            "  Downloading pyngrok-7.2.12-py3-none-any.whl.metadata (9.4 kB)\n",
            "Requirement already satisfied: altair<6,>=4.0 in /usr/local/lib/python3.11/dist-packages (from streamlit) (5.5.0)\n",
            "Requirement already satisfied: blinker<2,>=1.5.0 in /usr/local/lib/python3.11/dist-packages (from streamlit) (1.9.0)\n",
            "Requirement already satisfied: cachetools<7,>=4.0 in /usr/local/lib/python3.11/dist-packages (from streamlit) (5.5.2)\n",
            "Requirement already satisfied: click<9,>=7.0 in /usr/local/lib/python3.11/dist-packages (from streamlit) (8.2.1)\n",
            "Requirement already satisfied: numpy<3,>=1.23 in /usr/local/lib/python3.11/dist-packages (from streamlit) (2.0.2)\n",
            "Requirement already satisfied: packaging<26,>=20 in /usr/local/lib/python3.11/dist-packages (from streamlit) (24.2)\n",
            "Requirement already satisfied: pandas<3,>=1.4.0 in /usr/local/lib/python3.11/dist-packages (from streamlit) (2.2.2)\n",
            "Requirement already satisfied: pillow<12,>=7.1.0 in /usr/local/lib/python3.11/dist-packages (from streamlit) (11.2.1)\n",
            "Requirement already satisfied: protobuf<7,>=3.20 in /usr/local/lib/python3.11/dist-packages (from streamlit) (5.29.5)\n",
            "Requirement already satisfied: pyarrow>=7.0 in /usr/local/lib/python3.11/dist-packages (from streamlit) (18.1.0)\n",
            "Requirement already satisfied: requests<3,>=2.27 in /usr/local/lib/python3.11/dist-packages (from streamlit) (2.32.3)\n",
            "Requirement already satisfied: tenacity<10,>=8.1.0 in /usr/local/lib/python3.11/dist-packages (from streamlit) (8.5.0)\n",
            "Requirement already satisfied: toml<2,>=0.10.1 in /usr/local/lib/python3.11/dist-packages (from streamlit) (0.10.2)\n",
            "Requirement already satisfied: typing-extensions<5,>=4.4.0 in /usr/local/lib/python3.11/dist-packages (from streamlit) (4.14.1)\n",
            "Collecting watchdog<7,>=2.1.5 (from streamlit)\n",
            "  Downloading watchdog-6.0.0-py3-none-manylinux2014_x86_64.whl.metadata (44 kB)\n",
            "\u001b[2K     \u001b[90m━━━━━━━━━━━━━━━━━━━━━━━━━━━━━━━━━━━━━━━━\u001b[0m \u001b[32m44.3/44.3 kB\u001b[0m \u001b[31m2.2 MB/s\u001b[0m eta \u001b[36m0:00:00\u001b[0m\n",
            "\u001b[?25hRequirement already satisfied: gitpython!=3.1.19,<4,>=3.0.7 in /usr/local/lib/python3.11/dist-packages (from streamlit) (3.1.44)\n",
            "Collecting pydeck<1,>=0.8.0b4 (from streamlit)\n",
            "  Downloading pydeck-0.9.1-py2.py3-none-any.whl.metadata (4.1 kB)\n",
            "Requirement already satisfied: tornado!=6.5.0,<7,>=6.0.3 in /usr/local/lib/python3.11/dist-packages (from streamlit) (6.4.2)\n",
            "Requirement already satisfied: folium!=0.15.0,>=0.13 in /usr/local/lib/python3.11/dist-packages (from streamlit-folium) (0.19.7)\n",
            "Requirement already satisfied: jinja2 in /usr/local/lib/python3.11/dist-packages (from streamlit-folium) (3.1.6)\n",
            "Requirement already satisfied: branca in /usr/local/lib/python3.11/dist-packages (from streamlit-folium) (0.8.1)\n",
            "Requirement already satisfied: PyYAML>=5.1 in /usr/local/lib/python3.11/dist-packages (from pyngrok) (6.0.2)\n",
            "Requirement already satisfied: jsonschema>=3.0 in /usr/local/lib/python3.11/dist-packages (from altair<6,>=4.0->streamlit) (4.24.0)\n",
            "Requirement already satisfied: narwhals>=1.14.2 in /usr/local/lib/python3.11/dist-packages (from altair<6,>=4.0->streamlit) (1.46.0)\n",
            "Requirement already satisfied: xyzservices in /usr/local/lib/python3.11/dist-packages (from folium!=0.15.0,>=0.13->streamlit-folium) (2025.4.0)\n",
            "Requirement already satisfied: gitdb<5,>=4.0.1 in /usr/local/lib/python3.11/dist-packages (from gitpython!=3.1.19,<4,>=3.0.7->streamlit) (4.0.12)\n",
            "Requirement already satisfied: MarkupSafe>=2.0 in /usr/local/lib/python3.11/dist-packages (from jinja2->streamlit-folium) (3.0.2)\n",
            "Requirement already satisfied: python-dateutil>=2.8.2 in /usr/local/lib/python3.11/dist-packages (from pandas<3,>=1.4.0->streamlit) (2.9.0.post0)\n",
            "Requirement already satisfied: pytz>=2020.1 in /usr/local/lib/python3.11/dist-packages (from pandas<3,>=1.4.0->streamlit) (2025.2)\n",
            "Requirement already satisfied: tzdata>=2022.7 in /usr/local/lib/python3.11/dist-packages (from pandas<3,>=1.4.0->streamlit) (2025.2)\n",
            "Requirement already satisfied: charset-normalizer<4,>=2 in /usr/local/lib/python3.11/dist-packages (from requests<3,>=2.27->streamlit) (3.4.2)\n",
            "Requirement already satisfied: idna<4,>=2.5 in /usr/local/lib/python3.11/dist-packages (from requests<3,>=2.27->streamlit) (3.10)\n",
            "Requirement already satisfied: urllib3<3,>=1.21.1 in /usr/local/lib/python3.11/dist-packages (from requests<3,>=2.27->streamlit) (2.4.0)\n",
            "Requirement already satisfied: certifi>=2017.4.17 in /usr/local/lib/python3.11/dist-packages (from requests<3,>=2.27->streamlit) (2025.7.9)\n",
            "Requirement already satisfied: smmap<6,>=3.0.1 in /usr/local/lib/python3.11/dist-packages (from gitdb<5,>=4.0.1->gitpython!=3.1.19,<4,>=3.0.7->streamlit) (5.0.2)\n",
            "Requirement already satisfied: attrs>=22.2.0 in /usr/local/lib/python3.11/dist-packages (from jsonschema>=3.0->altair<6,>=4.0->streamlit) (25.3.0)\n",
            "Requirement already satisfied: jsonschema-specifications>=2023.03.6 in /usr/local/lib/python3.11/dist-packages (from jsonschema>=3.0->altair<6,>=4.0->streamlit) (2025.4.1)\n",
            "Requirement already satisfied: referencing>=0.28.4 in /usr/local/lib/python3.11/dist-packages (from jsonschema>=3.0->altair<6,>=4.0->streamlit) (0.36.2)\n",
            "Requirement already satisfied: rpds-py>=0.7.1 in /usr/local/lib/python3.11/dist-packages (from jsonschema>=3.0->altair<6,>=4.0->streamlit) (0.26.0)\n",
            "Requirement already satisfied: six>=1.5 in /usr/local/lib/python3.11/dist-packages (from python-dateutil>=2.8.2->pandas<3,>=1.4.0->streamlit) (1.17.0)\n",
            "Downloading streamlit-1.46.1-py3-none-any.whl (10.1 MB)\n",
            "\u001b[2K   \u001b[90m━━━━━━━━━━━━━━━━━━━━━━━━━━━━━━━━━━━━━━━━\u001b[0m \u001b[32m10.1/10.1 MB\u001b[0m \u001b[31m73.9 MB/s\u001b[0m eta \u001b[36m0:00:00\u001b[0m\n",
            "\u001b[?25hDownloading streamlit_folium-0.25.0-py3-none-any.whl (328 kB)\n",
            "\u001b[2K   \u001b[90m━━━━━━━━━━━━━━━━━━━━━━━━━━━━━━━━━━━━━━━━\u001b[0m \u001b[32m328.4/328.4 kB\u001b[0m \u001b[31m21.9 MB/s\u001b[0m eta \u001b[36m0:00:00\u001b[0m\n",
            "\u001b[?25hDownloading pyngrok-7.2.12-py3-none-any.whl (26 kB)\n",
            "Downloading pydeck-0.9.1-py2.py3-none-any.whl (6.9 MB)\n",
            "\u001b[2K   \u001b[90m━━━━━━━━━━━━━━━━━━━━━━━━━━━━━━━━━━━━━━━━\u001b[0m \u001b[32m6.9/6.9 MB\u001b[0m \u001b[31m100.9 MB/s\u001b[0m eta \u001b[36m0:00:00\u001b[0m\n",
            "\u001b[?25hDownloading watchdog-6.0.0-py3-none-manylinux2014_x86_64.whl (79 kB)\n",
            "\u001b[2K   \u001b[90m━━━━━━━━━━━━━━━━━━━━━━━━━━━━━━━━━━━━━━━━\u001b[0m \u001b[32m79.1/79.1 kB\u001b[0m \u001b[31m6.7 MB/s\u001b[0m eta \u001b[36m0:00:00\u001b[0m\n",
            "\u001b[?25hInstalling collected packages: watchdog, pyngrok, pydeck, streamlit, streamlit-folium\n",
            "Successfully installed pydeck-0.9.1 pyngrok-7.2.12 streamlit-1.46.1 streamlit-folium-0.25.0 watchdog-6.0.0\n"
          ]
        }
      ],
      "source": [
        "!pip install streamlit streamlit-folium pyngrok\n"
      ]
    },
    {
      "cell_type": "code",
      "execution_count": null,
      "metadata": {
        "id": "__iwkJrY1fDM",
        "colab": {
          "base_uri": "https://localhost:8080/"
        },
        "outputId": "f93193c2-d8ab-4343-cb01-6293deb3dc15"
      },
      "outputs": [
        {
          "output_type": "stream",
          "name": "stdout",
          "text": [
            "Overwriting eta_dashboard.py\n"
          ]
        }
      ],
      "source": [
        "%%writefile eta_dashboard.py\n",
        "import streamlit as st\n",
        "import pandas as pd\n",
        "import numpy as np\n",
        "import requests\n",
        "import joblib\n",
        "import time\n",
        "import pytz\n",
        "from datetime import datetime\n",
        "from google.transit import gtfs_realtime_pb2\n",
        "from tensorflow.keras.models import load_model\n",
        "import folium\n",
        "from streamlit_folium import st_folium\n",
        "\n",
        "# === Load Model and Encoders ===\n",
        "model = load_model(\"lstm_eta_model.h5\")\n",
        "scaler = joblib.load(\"feature_scaler.pkl\")\n",
        "weather_encoder = joblib.load(\"weather_encoder.pkl\")\n",
        "\n",
        "# === API KEYS ===\n",
        "MTA_API_KEY = \"bab3392b-58f0-42c2-8b61-421d6a03e72e\"\n",
        "TOMTOM_API_KEY = \"gmKSHRhMEQ1oXOnhV5wKL2B3WE45SZL9\"\n",
        "OPENWEATHER_API_KEY = \"d7836e8948f06edd3c191fa978ff266f\"\n",
        "\n",
        "# === API URLs ===\n",
        "MTA_API_URL = \"https://gtfsrt.prod.obanyc.com/vehiclePositions\"\n",
        "TOMTOM_URL = \"https://api.tomtom.com/traffic/services/4/flowSegmentData/absolute/10/json\"\n",
        "OPENWEATHER_URL = \"https://api.openweathermap.org/data/2.5/weather\"\n",
        "\n",
        "# === Helper Functions ===\n",
        "def fetch_mta_data():\n",
        "    headers = {\"x-api-key\": MTA_API_KEY}\n",
        "    response = requests.get(MTA_API_URL, headers=headers)\n",
        "    feed = gtfs_realtime_pb2.FeedMessage()\n",
        "    feed.ParseFromString(response.content)\n",
        "    buses = []\n",
        "    for entity in feed.entity:\n",
        "        if entity.HasField(\"vehicle\"):\n",
        "            v = entity.vehicle\n",
        "            buses.append({\n",
        "                \"vehicle_id\": v.vehicle.id,\n",
        "                \"route_id\": v.trip.route_id,\n",
        "                \"trip_id\": v.trip.trip_id,\n",
        "                \"latitude\": v.position.latitude,\n",
        "                \"longitude\": v.position.longitude,\n",
        "                \"timestamp\": v.timestamp\n",
        "            })\n",
        "    return buses[:10] # Limit to 10 buses for demo\n",
        "\n",
        "def fetch_traffic(lat, lon):\n",
        "    params = {\"point\": f\"{lat},{lon}\", \"unit\": \"KMPH\", \"key\": TOMTOM_API_KEY}\n",
        "    r = requests.get(TOMTOM_URL, params=params)\n",
        "    if r.status_code == 200:\n",
        "        d = r.json()\n",
        "        return round(d[\"flowSegmentData\"][\"currentTravelTime\"] / d[\"flowSegmentData\"][\"freeFlowTravelTime\"], 2)\n",
        "    return 1.0\n",
        "\n",
        "def fetch_weather(lat, lon):\n",
        "    params = {\"lat\": lat, \"lon\": lon, \"appid\": OPENWEATHER_API_KEY, \"units\": \"metric\"}\n",
        "    r = requests.get(OPENWEATHER_URL, params=params)\n",
        "    if r.status_code == 200:\n",
        "        d = r.json()\n",
        "        return d[\"main\"][\"temp\"], d[\"weather\"][0][\"main\"]\n",
        "    return 25.0, \"Clear\"\n",
        "\n",
        "def convert_to_ny(utc_timestamp):\n",
        "    utc_dt = datetime.utcfromtimestamp(utc_timestamp).replace(tzinfo=pytz.utc)\n",
        "    ny_tz = pytz.timezone(\"America/New_York\")\n",
        "    ny_time = utc_dt.astimezone(ny_tz)\n",
        "    return ny_time.strftime(\"%Y-%m-%d %H:%M:%S %Z\")\n",
        "\n",
        "# === Streamlit UI ===\n",
        "st.set_page_config(page_title=\"Bus ETA Live Tracker\", layout=\"wide\")\n",
        "st.title(\"🚌 Real-Time Bus ETA Prediction (LSTM Model)\")\n",
        "\n",
        "bus_data = fetch_mta_data()\n",
        "history = []\n",
        "\n",
        "# === Map setup ===\n",
        "if bus_data:\n",
        "    first = bus_data[0]\n",
        "    m = folium.Map(location=[first[\"latitude\"], first[\"longitude\"]], zoom_start=11)\n",
        "\n",
        "    table_data = []\n",
        "\n",
        "    for bus in bus_data:\n",
        "        lat, lon = bus[\"latitude\"], bus[\"longitude\"]\n",
        "        traffic_ratio = fetch_traffic(lat, lon)\n",
        "        temp, weather = fetch_weather(lat, lon)\n",
        "        ts = bus[\"timestamp\"]\n",
        "        ny_time = convert_to_ny(ts)\n",
        "\n",
        "        if weather in weather_encoder.classes_:\n",
        "            weather_code = weather_encoder.transform([weather])[0]\n",
        "        else:\n",
        "            weather_code = 0\n",
        "\n",
        "        # Sequence history per bus (5 points — simulate with last value repeated)\n",
        "        point = [traffic_ratio, temp, weather_code]\n",
        "        history = [point] * 5\n",
        "        X = np.array(history)\n",
        "        X_scaled = scaler.transform(X).reshape(1, 5, 3)\n",
        "\n",
        "        eta = float(model.predict(X_scaled)[0][0])\n",
        "        eta = max(0, round(eta))\n",
        "\n",
        "        # Add marker to map\n",
        "        popup = f\"Bus ID: {bus['vehicle_id']}<br>Delay: {eta} sec<br>Weather: {weather}<br>Traffic: {traffic_ratio}\"\n",
        "        folium.Marker([lat, lon], tooltip=f\"{bus['vehicle_id']}\", popup=popup,\n",
        "                      icon=folium.Icon(color=\"blue\", icon=\"bus\", prefix=\"fa\")).add_to(m)\n",
        "\n",
        "        # Add to table\n",
        "        table_data.append({\n",
        "            \"Bus ID\": bus[\"vehicle_id\"],\n",
        "            \"Route\": bus[\"route_id\"],\n",
        "            \"Time (New York)\": ny_time,\n",
        "            \"ETA Delay (sec)\": eta,\n",
        "            \"Traffic Ratio\": traffic_ratio,\n",
        "            \"Temperature (°C)\": temp,\n",
        "            \"Weather\": weather\n",
        "        })\n",
        "\n",
        "    # Render map\n",
        "    st_folium(m, width=700, height=500)\n",
        "\n",
        "    # Show table\n",
        "    st.subheader(\"📊 Live ETA Predictions\")\n",
        "    st.dataframe(pd.DataFrame(table_data))\n",
        "else:\n",
        "    st.warning(\"No bus data available.\")\n"
      ]
    },
    {
      "cell_type": "code",
      "execution_count": null,
      "metadata": {
        "id": "tKjl30sY4Cyf",
        "colab": {
          "base_uri": "https://localhost:8080/"
        },
        "outputId": "6f34a2bd-8630-4e45-e1fa-5ca17da0308d"
      },
      "outputs": [
        {
          "output_type": "stream",
          "name": "stdout",
          "text": [
            "Authtoken saved to configuration file: /root/.config/ngrok/ngrok.yml\n"
          ]
        }
      ],
      "source": [
        "!ngrok config add-authtoken 2yVWE8TvK02yTJmkns2pm0LqvLk_6ajxnNdQgA1H12VbSwz7n\n"
      ]
    },
    {
      "cell_type": "code",
      "execution_count": null,
      "metadata": {
        "id": "vI2YoamQ3b5X",
        "colab": {
          "base_uri": "https://localhost:8080/"
        },
        "outputId": "ca1282f4-2f4c-4214-9e2e-7a50939c2d65"
      },
      "outputs": [
        {
          "output_type": "stream",
          "name": "stdout",
          "text": [
            "🌐 Public URL: NgrokTunnel: \"https://b8c5b88bf182.ngrok-free.app\" -> \"http://localhost:8501\"\n"
          ]
        }
      ],
      "source": [
        "from pyngrok import ngrok\n",
        "import os\n",
        "\n",
        "# Kill previous tunnels (if any)\n",
        "ngrok.kill()\n",
        "\n",
        "# Start Streamlit app\n",
        "public_url = ngrok.connect(8501)\n",
        "print(f\"🌐 Public URL: {public_url}\")\n",
        "\n",
        "# Run app in background\n",
        "!streamlit run eta_dashboard.py &> streamlit_log.txt &\n"
      ]
    },
    {
      "cell_type": "code",
      "execution_count": null,
      "metadata": {
        "colab": {
          "base_uri": "https://localhost:8080/"
        },
        "id": "K-08QaVczXnq",
        "outputId": "edc2db47-e1c4-43ed-f61d-82120aa91543"
      },
      "outputs": [
        {
          "output_type": "stream",
          "name": "stdout",
          "text": [
            "Requirement already satisfied: streamlit in /usr/local/lib/python3.11/dist-packages (1.46.1)\n",
            "Requirement already satisfied: streamlit-folium in /usr/local/lib/python3.11/dist-packages (0.25.0)\n",
            "Collecting streamlit-autorefresh\n",
            "  Downloading streamlit_autorefresh-1.0.1-py3-none-any.whl.metadata (436 bytes)\n",
            "Requirement already satisfied: tensorflow in /usr/local/lib/python3.11/dist-packages (2.18.0)\n",
            "Requirement already satisfied: joblib in /usr/local/lib/python3.11/dist-packages (1.5.1)\n",
            "Requirement already satisfied: folium in /usr/local/lib/python3.11/dist-packages (0.19.7)\n",
            "Requirement already satisfied: protobuf in /usr/local/lib/python3.11/dist-packages (5.29.5)\n",
            "Requirement already satisfied: altair<6,>=4.0 in /usr/local/lib/python3.11/dist-packages (from streamlit) (5.5.0)\n",
            "Requirement already satisfied: blinker<2,>=1.5.0 in /usr/local/lib/python3.11/dist-packages (from streamlit) (1.9.0)\n",
            "Requirement already satisfied: cachetools<7,>=4.0 in /usr/local/lib/python3.11/dist-packages (from streamlit) (5.5.2)\n",
            "Requirement already satisfied: click<9,>=7.0 in /usr/local/lib/python3.11/dist-packages (from streamlit) (8.2.1)\n",
            "Requirement already satisfied: numpy<3,>=1.23 in /usr/local/lib/python3.11/dist-packages (from streamlit) (2.0.2)\n",
            "Requirement already satisfied: packaging<26,>=20 in /usr/local/lib/python3.11/dist-packages (from streamlit) (24.2)\n",
            "Requirement already satisfied: pandas<3,>=1.4.0 in /usr/local/lib/python3.11/dist-packages (from streamlit) (2.2.2)\n",
            "Requirement already satisfied: pillow<12,>=7.1.0 in /usr/local/lib/python3.11/dist-packages (from streamlit) (11.2.1)\n",
            "Requirement already satisfied: pyarrow>=7.0 in /usr/local/lib/python3.11/dist-packages (from streamlit) (18.1.0)\n",
            "Requirement already satisfied: requests<3,>=2.27 in /usr/local/lib/python3.11/dist-packages (from streamlit) (2.32.3)\n",
            "Requirement already satisfied: tenacity<10,>=8.1.0 in /usr/local/lib/python3.11/dist-packages (from streamlit) (8.5.0)\n",
            "Requirement already satisfied: toml<2,>=0.10.1 in /usr/local/lib/python3.11/dist-packages (from streamlit) (0.10.2)\n",
            "Requirement already satisfied: typing-extensions<5,>=4.4.0 in /usr/local/lib/python3.11/dist-packages (from streamlit) (4.14.0)\n",
            "Requirement already satisfied: watchdog<7,>=2.1.5 in /usr/local/lib/python3.11/dist-packages (from streamlit) (6.0.0)\n",
            "Requirement already satisfied: gitpython!=3.1.19,<4,>=3.0.7 in /usr/local/lib/python3.11/dist-packages (from streamlit) (3.1.44)\n",
            "Requirement already satisfied: pydeck<1,>=0.8.0b4 in /usr/local/lib/python3.11/dist-packages (from streamlit) (0.9.1)\n",
            "Requirement already satisfied: tornado!=6.5.0,<7,>=6.0.3 in /usr/local/lib/python3.11/dist-packages (from streamlit) (6.4.2)\n",
            "Requirement already satisfied: jinja2 in /usr/local/lib/python3.11/dist-packages (from streamlit-folium) (3.1.6)\n",
            "Requirement already satisfied: branca in /usr/local/lib/python3.11/dist-packages (from streamlit-folium) (0.8.1)\n",
            "Requirement already satisfied: absl-py>=1.0.0 in /usr/local/lib/python3.11/dist-packages (from tensorflow) (1.4.0)\n",
            "Requirement already satisfied: astunparse>=1.6.0 in /usr/local/lib/python3.11/dist-packages (from tensorflow) (1.6.3)\n",
            "Requirement already satisfied: flatbuffers>=24.3.25 in /usr/local/lib/python3.11/dist-packages (from tensorflow) (25.2.10)\n",
            "Requirement already satisfied: gast!=0.5.0,!=0.5.1,!=0.5.2,>=0.2.1 in /usr/local/lib/python3.11/dist-packages (from tensorflow) (0.6.0)\n",
            "Requirement already satisfied: google-pasta>=0.1.1 in /usr/local/lib/python3.11/dist-packages (from tensorflow) (0.2.0)\n",
            "Requirement already satisfied: libclang>=13.0.0 in /usr/local/lib/python3.11/dist-packages (from tensorflow) (18.1.1)\n",
            "Requirement already satisfied: opt-einsum>=2.3.2 in /usr/local/lib/python3.11/dist-packages (from tensorflow) (3.4.0)\n",
            "Requirement already satisfied: setuptools in /usr/local/lib/python3.11/dist-packages (from tensorflow) (75.2.0)\n",
            "Requirement already satisfied: six>=1.12.0 in /usr/local/lib/python3.11/dist-packages (from tensorflow) (1.17.0)\n",
            "Requirement already satisfied: termcolor>=1.1.0 in /usr/local/lib/python3.11/dist-packages (from tensorflow) (3.1.0)\n",
            "Requirement already satisfied: wrapt>=1.11.0 in /usr/local/lib/python3.11/dist-packages (from tensorflow) (1.17.2)\n",
            "Requirement already satisfied: grpcio<2.0,>=1.24.3 in /usr/local/lib/python3.11/dist-packages (from tensorflow) (1.73.1)\n",
            "Requirement already satisfied: tensorboard<2.19,>=2.18 in /usr/local/lib/python3.11/dist-packages (from tensorflow) (2.18.0)\n",
            "Requirement already satisfied: keras>=3.5.0 in /usr/local/lib/python3.11/dist-packages (from tensorflow) (3.8.0)\n",
            "Requirement already satisfied: h5py>=3.11.0 in /usr/local/lib/python3.11/dist-packages (from tensorflow) (3.14.0)\n",
            "Requirement already satisfied: ml-dtypes<0.5.0,>=0.4.0 in /usr/local/lib/python3.11/dist-packages (from tensorflow) (0.4.1)\n",
            "Requirement already satisfied: tensorflow-io-gcs-filesystem>=0.23.1 in /usr/local/lib/python3.11/dist-packages (from tensorflow) (0.37.1)\n",
            "Requirement already satisfied: xyzservices in /usr/local/lib/python3.11/dist-packages (from folium) (2025.4.0)\n",
            "Requirement already satisfied: jsonschema>=3.0 in /usr/local/lib/python3.11/dist-packages (from altair<6,>=4.0->streamlit) (4.24.0)\n",
            "Requirement already satisfied: narwhals>=1.14.2 in /usr/local/lib/python3.11/dist-packages (from altair<6,>=4.0->streamlit) (1.45.0)\n",
            "Requirement already satisfied: wheel<1.0,>=0.23.0 in /usr/local/lib/python3.11/dist-packages (from astunparse>=1.6.0->tensorflow) (0.45.1)\n",
            "Requirement already satisfied: gitdb<5,>=4.0.1 in /usr/local/lib/python3.11/dist-packages (from gitpython!=3.1.19,<4,>=3.0.7->streamlit) (4.0.12)\n",
            "Requirement already satisfied: MarkupSafe>=2.0 in /usr/local/lib/python3.11/dist-packages (from jinja2->streamlit-folium) (3.0.2)\n",
            "Requirement already satisfied: rich in /usr/local/lib/python3.11/dist-packages (from keras>=3.5.0->tensorflow) (13.9.4)\n",
            "Requirement already satisfied: namex in /usr/local/lib/python3.11/dist-packages (from keras>=3.5.0->tensorflow) (0.1.0)\n",
            "Requirement already satisfied: optree in /usr/local/lib/python3.11/dist-packages (from keras>=3.5.0->tensorflow) (0.16.0)\n",
            "Requirement already satisfied: python-dateutil>=2.8.2 in /usr/local/lib/python3.11/dist-packages (from pandas<3,>=1.4.0->streamlit) (2.9.0.post0)\n",
            "Requirement already satisfied: pytz>=2020.1 in /usr/local/lib/python3.11/dist-packages (from pandas<3,>=1.4.0->streamlit) (2025.2)\n",
            "Requirement already satisfied: tzdata>=2022.7 in /usr/local/lib/python3.11/dist-packages (from pandas<3,>=1.4.0->streamlit) (2025.2)\n",
            "Requirement already satisfied: charset-normalizer<4,>=2 in /usr/local/lib/python3.11/dist-packages (from requests<3,>=2.27->streamlit) (3.4.2)\n",
            "Requirement already satisfied: idna<4,>=2.5 in /usr/local/lib/python3.11/dist-packages (from requests<3,>=2.27->streamlit) (3.10)\n",
            "Requirement already satisfied: urllib3<3,>=1.21.1 in /usr/local/lib/python3.11/dist-packages (from requests<3,>=2.27->streamlit) (2.4.0)\n",
            "Requirement already satisfied: certifi>=2017.4.17 in /usr/local/lib/python3.11/dist-packages (from requests<3,>=2.27->streamlit) (2025.6.15)\n",
            "Requirement already satisfied: markdown>=2.6.8 in /usr/local/lib/python3.11/dist-packages (from tensorboard<2.19,>=2.18->tensorflow) (3.8.2)\n",
            "Requirement already satisfied: tensorboard-data-server<0.8.0,>=0.7.0 in /usr/local/lib/python3.11/dist-packages (from tensorboard<2.19,>=2.18->tensorflow) (0.7.2)\n",
            "Requirement already satisfied: werkzeug>=1.0.1 in /usr/local/lib/python3.11/dist-packages (from tensorboard<2.19,>=2.18->tensorflow) (3.1.3)\n",
            "Requirement already satisfied: smmap<6,>=3.0.1 in /usr/local/lib/python3.11/dist-packages (from gitdb<5,>=4.0.1->gitpython!=3.1.19,<4,>=3.0.7->streamlit) (5.0.2)\n",
            "Requirement already satisfied: attrs>=22.2.0 in /usr/local/lib/python3.11/dist-packages (from jsonschema>=3.0->altair<6,>=4.0->streamlit) (25.3.0)\n",
            "Requirement already satisfied: jsonschema-specifications>=2023.03.6 in /usr/local/lib/python3.11/dist-packages (from jsonschema>=3.0->altair<6,>=4.0->streamlit) (2025.4.1)\n",
            "Requirement already satisfied: referencing>=0.28.4 in /usr/local/lib/python3.11/dist-packages (from jsonschema>=3.0->altair<6,>=4.0->streamlit) (0.36.2)\n",
            "Requirement already satisfied: rpds-py>=0.7.1 in /usr/local/lib/python3.11/dist-packages (from jsonschema>=3.0->altair<6,>=4.0->streamlit) (0.26.0)\n",
            "Requirement already satisfied: markdown-it-py>=2.2.0 in /usr/local/lib/python3.11/dist-packages (from rich->keras>=3.5.0->tensorflow) (3.0.0)\n",
            "Requirement already satisfied: pygments<3.0.0,>=2.13.0 in /usr/local/lib/python3.11/dist-packages (from rich->keras>=3.5.0->tensorflow) (2.19.2)\n",
            "Requirement already satisfied: mdurl~=0.1 in /usr/local/lib/python3.11/dist-packages (from markdown-it-py>=2.2.0->rich->keras>=3.5.0->tensorflow) (0.1.2)\n",
            "Downloading streamlit_autorefresh-1.0.1-py3-none-any.whl (700 kB)\n",
            "\u001b[2K   \u001b[90m━━━━━━━━━━━━━━━━━━━━━━━━━━━━━━━━━━━━━━━━\u001b[0m \u001b[32m700.8/700.8 kB\u001b[0m \u001b[31m9.2 MB/s\u001b[0m eta \u001b[36m0:00:00\u001b[0m\n",
            "\u001b[?25hInstalling collected packages: streamlit-autorefresh\n",
            "Successfully installed streamlit-autorefresh-1.0.1\n"
          ]
        }
      ],
      "source": [
        "pip install streamlit streamlit-folium streamlit-autorefresh tensorflow joblib folium protobuf\n"
      ]
    },
    {
      "cell_type": "code",
      "execution_count": null,
      "metadata": {
        "colab": {
          "base_uri": "https://localhost:8080/"
        },
        "id": "tth7Mgqlzuui",
        "outputId": "1b9b59e8-4a00-49a5-f55a-98981d1bb0a2"
      },
      "outputs": [
        {
          "output_type": "stream",
          "name": "stdout",
          "text": [
            "Requirement already satisfied: gtfs-realtime-bindings in /usr/local/lib/python3.11/dist-packages (1.0.0)\n",
            "Requirement already satisfied: setuptools in /usr/local/lib/python3.11/dist-packages (from gtfs-realtime-bindings) (75.2.0)\n",
            "Requirement already satisfied: protobuf in /usr/local/lib/python3.11/dist-packages (from gtfs-realtime-bindings) (5.29.5)\n"
          ]
        }
      ],
      "source": [
        "!pip install gtfs-realtime-bindings\n"
      ]
    },
    {
      "cell_type": "code",
      "execution_count": null,
      "metadata": {
        "colab": {
          "base_uri": "https://localhost:8080/"
        },
        "id": "VqGP_Q1E3Lb1",
        "outputId": "ddbe3d4c-3df8-423c-ae94-41c92b3afde3"
      },
      "outputs": [
        {
          "output_type": "stream",
          "name": "stdout",
          "text": [
            "Requirement already satisfied: seaborn in /usr/local/lib/python3.11/dist-packages (0.13.2)\n",
            "Requirement already satisfied: matplotlib in /usr/local/lib/python3.11/dist-packages (3.10.0)\n",
            "Requirement already satisfied: numpy!=1.24.0,>=1.20 in /usr/local/lib/python3.11/dist-packages (from seaborn) (2.0.2)\n",
            "Requirement already satisfied: pandas>=1.2 in /usr/local/lib/python3.11/dist-packages (from seaborn) (2.2.2)\n",
            "Requirement already satisfied: contourpy>=1.0.1 in /usr/local/lib/python3.11/dist-packages (from matplotlib) (1.3.2)\n",
            "Requirement already satisfied: cycler>=0.10 in /usr/local/lib/python3.11/dist-packages (from matplotlib) (0.12.1)\n",
            "Requirement already satisfied: fonttools>=4.22.0 in /usr/local/lib/python3.11/dist-packages (from matplotlib) (4.58.4)\n",
            "Requirement already satisfied: kiwisolver>=1.3.1 in /usr/local/lib/python3.11/dist-packages (from matplotlib) (1.4.8)\n",
            "Requirement already satisfied: packaging>=20.0 in /usr/local/lib/python3.11/dist-packages (from matplotlib) (24.2)\n",
            "Requirement already satisfied: pillow>=8 in /usr/local/lib/python3.11/dist-packages (from matplotlib) (11.2.1)\n",
            "Requirement already satisfied: pyparsing>=2.3.1 in /usr/local/lib/python3.11/dist-packages (from matplotlib) (3.2.3)\n",
            "Requirement already satisfied: python-dateutil>=2.7 in /usr/local/lib/python3.11/dist-packages (from matplotlib) (2.9.0.post0)\n",
            "Requirement already satisfied: pytz>=2020.1 in /usr/local/lib/python3.11/dist-packages (from pandas>=1.2->seaborn) (2025.2)\n",
            "Requirement already satisfied: tzdata>=2022.7 in /usr/local/lib/python3.11/dist-packages (from pandas>=1.2->seaborn) (2025.2)\n",
            "Requirement already satisfied: six>=1.5 in /usr/local/lib/python3.11/dist-packages (from python-dateutil>=2.7->matplotlib) (1.17.0)\n"
          ]
        }
      ],
      "source": [
        "pip install seaborn matplotlib\n"
      ]
    },
    {
      "cell_type": "code",
      "execution_count": null,
      "metadata": {
        "colab": {
          "base_uri": "https://localhost:8080/",
          "height": 1000
        },
        "id": "eC4oEr5o-xXP",
        "outputId": "7472362d-9114-4bc5-8cf7-2fb77eb30dcb"
      },
      "outputs": [
        {
          "output_type": "stream",
          "name": "stderr",
          "text": [
            "/usr/local/lib/python3.11/dist-packages/IPython/core/pylabtools.py:151: UserWarning: Glyph 9203 (\\N{HOURGLASS WITH FLOWING SAND}) missing from font(s) DejaVu Sans.\n",
            "  fig.canvas.print_figure(bytes_io, **kw)\n"
          ]
        },
        {
          "output_type": "display_data",
          "data": {
            "text/plain": [
              "<Figure size 800x500 with 1 Axes>"
            ],
            "image/png": "[encoded data removed]"
          },
          "metadata": {}
        },
        {
          "output_type": "stream",
          "name": "stderr",
          "text": [
            "/usr/local/lib/python3.11/dist-packages/IPython/core/pylabtools.py:151: UserWarning: Glyph 128663 (\\N{AUTOMOBILE}) missing from font(s) DejaVu Sans.\n",
            "  fig.canvas.print_figure(bytes_io, **kw)\n"
          ]
        },
        {
          "output_type": "display_data",
          "data": {
            "text/plain": [
              "<Figure size 800x500 with 1 Axes>"
            ],
            "image/png": "[encoded data removed]"
          },
          "metadata": {}
        },
        {
          "output_type": "stream",
          "name": "stderr",
          "text": [
            "/usr/local/lib/python3.11/dist-packages/IPython/core/pylabtools.py:151: UserWarning: Glyph 127777 (\\N{THERMOMETER}) missing from font(s) DejaVu Sans.\n",
            "  fig.canvas.print_figure(bytes_io, **kw)\n"
          ]
        },
        {
          "output_type": "display_data",
          "data": {
            "text/plain": [
              "<Figure size 800x500 with 1 Axes>"
            ],
            "image/png": "[encoded data removed]"
          },
          "metadata": {}
        },
        {
          "output_type": "stream",
          "name": "stderr",
          "text": [
            "/tmp/ipython-input-17-1366259825.py:40: FutureWarning: \n",
            "\n",
            "Passing `palette` without assigning `hue` is deprecated and will be removed in v0.14.0. Assign the `x` variable to `hue` and set `legend=False` for the same effect.\n",
            "\n",
            "  sns.barplot(data=avg_delay, x=\"weather\", y=\"ETA Delay (s)\", palette=\"coolwarm\")\n"
          ]
        },
        {
          "output_type": "display_data",
          "data": {
            "text/plain": [
              "<Figure size 700x500 with 1 Axes>"
            ],
            "image/png": "[encoded data removed]"
          },
          "metadata": {}
        },
        {
          "output_type": "display_data",
          "data": {
            "text/plain": [
              "<IPython.core.display.Javascript object>"
            ],
            "application/javascript": [
              "\n",
              "    async function download(id, filename, size) {\n",
              "      if (!google.colab.kernel.accessAllowed) {\n",
              "        return;\n",
              "      }\n",
              "      const div = document.createElement('div');\n",
              "      const label = document.createElement('label');\n",
              "      label.textContent = `Downloading \"${filename}\": `;\n",
              "      div.appendChild(label);\n",
              "      const progress = document.createElement('progress');\n",
              "      progress.max = size;\n",
              "      div.appendChild(progress);\n",
              "      document.body.appendChild(div);\n",
              "\n",
              "      const buffers = [];\n",
              "      let downloaded = 0;\n",
              "\n",
              "      const channel = await google.colab.kernel.comms.open(id);\n",
              "      // Send a message to notify the kernel that we're ready.\n",
              "      channel.send({})\n",
              "\n",
              "      for await (const message of channel.messages) {\n",
              "        // Send a message to notify the kernel that we're ready.\n",
              "        channel.send({})\n",
              "        if (message.buffers) {\n",
              "          for (const buffer of message.buffers) {\n",
              "            buffers.push(buffer);\n",
              "            downloaded += buffer.byteLength;\n",
              "            progress.value = downloaded;\n",
              "          }\n",
              "        }\n",
              "      }\n",
              "      const blob = new Blob(buffers, {type: 'application/binary'});\n",
              "      const a = document.createElement('a');\n",
              "      a.href = window.URL.createObjectURL(blob);\n",
              "      a.download = filename;\n",
              "      div.appendChild(a);\n",
              "      a.click();\n",
              "      div.remove();\n",
              "    }\n",
              "  "
            ]
          },
          "metadata": {}
        },
        {
          "output_type": "display_data",
          "data": {
            "text/plain": [
              "<IPython.core.display.Javascript object>"
            ],
            "application/javascript": [
              "download(\"download_4033ff71-3e03-48ba-818d-30ccad424a41\", \"cleaned_eta_data.csv\", 10839)"
            ]
          },
          "metadata": {}
        }
      ],
      "source": [
        "import matplotlib.pyplot as plt\n",
        "import seaborn as sns\n",
        "\n",
        "# Rename the column for consistency with your original plots\n",
        "df[\"ETA Delay (s)\"] = df[\"delay_estimate_sec\"]\n",
        "\n",
        "# 📊 Plot 1: ETA Delay Histogram\n",
        "plt.figure(figsize=(8, 5))\n",
        "sns.histplot(df[\"ETA Delay (s)\"], bins=10, kde=True, color=\"skyblue\")\n",
        "plt.title(\"⏳ ETA Delay Distribution\")\n",
        "plt.xlabel(\"ETA Delay (seconds)\")\n",
        "plt.ylabel(\"Number of Buses\")\n",
        "plt.grid(True)\n",
        "plt.show()\n",
        "\n",
        "# 📊 Plot 2: Traffic Ratio vs ETA Delay\n",
        "if \"traffic_ratio\" in df.columns:\n",
        "    plt.figure(figsize=(8, 5))\n",
        "    sns.scatterplot(data=df, x=\"traffic_ratio\", y=\"ETA Delay (s)\", hue=\"vehicle_id\", palette=\"Set2\")\n",
        "    plt.title(\"🚗 Traffic Ratio vs ETA Delay\")\n",
        "    plt.xlabel(\"Traffic Ratio\")\n",
        "    plt.ylabel(\"ETA Delay (s)\")\n",
        "    plt.grid(True)\n",
        "    plt.show()\n",
        "\n",
        "# 📊 Plot 3: Temperature vs ETA Delay\n",
        "if \"temperature\" in df.columns:\n",
        "    plt.figure(figsize=(8, 5))\n",
        "    sns.lineplot(data=df.sort_values(\"temperature\"), x=\"temperature\", y=\"ETA Delay (s)\", marker=\"o\", color=\"tomato\")\n",
        "    plt.title(\"🌡 Temperature vs ETA Delay\")\n",
        "    plt.xlabel(\"Temperature (°C)\")\n",
        "    plt.ylabel(\"ETA Delay (s)\")\n",
        "    plt.grid(True)\n",
        "    plt.show()\n",
        "\n",
        "# 📊 Plot 4: Avg Delay by Weather\n",
        "if \"weather\" in df.columns:\n",
        "    avg_delay = df.groupby(\"weather\")[\"ETA Delay (s)\"].mean().reset_index()\n",
        "    plt.figure(figsize=(7, 5))\n",
        "    sns.barplot(data=avg_delay, x=\"weather\", y=\"ETA Delay (s)\", palette=\"coolwarm\")\n",
        "    plt.title(\"☁ Average ETA Delay by Weather\")\n",
        "    plt.xlabel(\"Weather Condition\")\n",
        "    plt.ylabel(\"Avg Delay (s)\")\n",
        "    for i, row in avg_delay.iterrows():\n",
        "        plt.text(i, row[\"ETA Delay (s)\"] + 0.2, f\"{row['ETA Delay (s)']:.1f}s\", ha='center')\n",
        "    plt.grid(True)\n",
        "    plt.show()\n",
        "\n",
        "# 📁 Save cleaned data\n",
        "df.to_csv(\"cleaned_eta_data.csv\", index=False)\n",
        "\n",
        "# 📥 Download in Colab\n",
        "from google.colab import files\n",
        "files.download(\"cleaned_eta_data.csv\")\n"
      ]
    },
    {
      "cell_type": "code",
      "execution_count": null,
      "metadata": {
        "id": "GSzfylKc4T7p"
      },
      "outputs": [],
      "source": []
    }
  ],
  "metadata": {
    "colab": {
      "provenance": [],
      "mount_file_id": "1Oo2TKPqcaQJys04A-BPEP2HkgSTPlhW9",
      "authorship_tag": "ABX9TyMl2efwRx4MAxPyfmlKetel",
      "include_colab_link": true
    },
    "kernelspec": {
      "display_name": "Python 3",
      "name": "python3"
    },
    "language_info": {
      "name": "python"
    }
  },
  "nbformat": 4,
  "nbformat_minor": 0
}